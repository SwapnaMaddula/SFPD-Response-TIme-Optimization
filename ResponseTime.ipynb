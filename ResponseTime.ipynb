{
 "cells": [
  {
   "cell_type": "markdown",
   "metadata": {},
   "source": [
    "# 255- Project \n",
    "# Crime Incident Clustering & Evaluation\n"
   ]
  },
  {
   "cell_type": "markdown",
   "metadata": {},
   "source": [
    "## By Savitri Swapna Maddula (012551799)"
   ]
  },
  {
   "cell_type": "markdown",
   "metadata": {},
   "source": [
    "### Import necessary Libraries"
   ]
  },
  {
   "cell_type": "code",
   "execution_count": 207,
   "metadata": {},
   "outputs": [],
   "source": [
    "import pandas as pd\n",
    "import numpy as np\n",
    "from sklearn.cluster import KMeans\n",
    "from pandas import ExcelWriter\n",
    "%matplotlib inline\n",
    "import matplotlib.pyplot as plt\n",
    "import seaborn as sns\n",
    "sns.set()\n",
    "from geopy.distance import great_circle\n",
    "from pandas import ExcelWriter\n",
    "import os\n",
    "import warnings\n",
    "warnings.filterwarnings('ignore')"
   ]
  },
  {
   "cell_type": "markdown",
   "metadata": {},
   "source": [
    "## Step-1: Data Collection"
   ]
  },
  {
   "cell_type": "code",
   "execution_count": 208,
   "metadata": {},
   "outputs": [],
   "source": [
    "incident_df = pd.read_csv('data/police-department-incidents.csv')"
   ]
  },
  {
   "cell_type": "code",
   "execution_count": 209,
   "metadata": {},
   "outputs": [
    {
     "data": {
      "text/plain": [
       "(2215024, 13)"
      ]
     },
     "execution_count": 209,
     "metadata": {},
     "output_type": "execute_result"
    }
   ],
   "source": [
    "incident_df.shape"
   ]
  },
  {
   "cell_type": "code",
   "execution_count": 210,
   "metadata": {},
   "outputs": [
    {
     "data": {
      "text/html": [
       "<div>\n",
       "<style scoped>\n",
       "    .dataframe tbody tr th:only-of-type {\n",
       "        vertical-align: middle;\n",
       "    }\n",
       "\n",
       "    .dataframe tbody tr th {\n",
       "        vertical-align: top;\n",
       "    }\n",
       "\n",
       "    .dataframe thead th {\n",
       "        text-align: right;\n",
       "    }\n",
       "</style>\n",
       "<table border=\"1\" class=\"dataframe\">\n",
       "  <thead>\n",
       "    <tr style=\"text-align: right;\">\n",
       "      <th></th>\n",
       "      <th>IncidntNum</th>\n",
       "      <th>Category</th>\n",
       "      <th>Descript</th>\n",
       "      <th>DayOfWeek</th>\n",
       "      <th>Date</th>\n",
       "      <th>Time</th>\n",
       "      <th>PdDistrict</th>\n",
       "      <th>Resolution</th>\n",
       "      <th>Address</th>\n",
       "      <th>X</th>\n",
       "      <th>Y</th>\n",
       "      <th>Location</th>\n",
       "      <th>PdId</th>\n",
       "    </tr>\n",
       "  </thead>\n",
       "  <tbody>\n",
       "    <tr>\n",
       "      <th>0</th>\n",
       "      <td>50436712</td>\n",
       "      <td>ASSAULT</td>\n",
       "      <td>BATTERY</td>\n",
       "      <td>Wednesday</td>\n",
       "      <td>2005-04-20T00:00:00</td>\n",
       "      <td>04:00</td>\n",
       "      <td>MISSION</td>\n",
       "      <td>NONE</td>\n",
       "      <td>18TH ST / CASTRO ST</td>\n",
       "      <td>-122.435003</td>\n",
       "      <td>37.760888</td>\n",
       "      <td>{'latitude': '37.7608878061245', 'human_addres...</td>\n",
       "      <td>5043671204134</td>\n",
       "    </tr>\n",
       "    <tr>\n",
       "      <th>1</th>\n",
       "      <td>80049078</td>\n",
       "      <td>LARCENY/THEFT</td>\n",
       "      <td>GRAND THEFT FROM A BUILDING</td>\n",
       "      <td>Sunday</td>\n",
       "      <td>2008-01-13T00:00:00</td>\n",
       "      <td>18:00</td>\n",
       "      <td>PARK</td>\n",
       "      <td>NONE</td>\n",
       "      <td>1100 Block of CLAYTON ST</td>\n",
       "      <td>-122.446838</td>\n",
       "      <td>37.762255</td>\n",
       "      <td>{'latitude': '37.7622550270122', 'human_addres...</td>\n",
       "      <td>8004907806304</td>\n",
       "    </tr>\n",
       "    <tr>\n",
       "      <th>2</th>\n",
       "      <td>130366639</td>\n",
       "      <td>ASSAULT</td>\n",
       "      <td>AGGRAVATED ASSAULT WITH A KNIFE</td>\n",
       "      <td>Sunday</td>\n",
       "      <td>2013-05-05T00:00:00</td>\n",
       "      <td>04:10</td>\n",
       "      <td>INGLESIDE</td>\n",
       "      <td>ARREST, BOOKED</td>\n",
       "      <td>0 Block of SGTJOHNVYOUNG LN</td>\n",
       "      <td>-122.444707</td>\n",
       "      <td>37.724931</td>\n",
       "      <td>{'latitude': '37.7249307267936', 'human_addres...</td>\n",
       "      <td>13036663904012</td>\n",
       "    </tr>\n",
       "    <tr>\n",
       "      <th>3</th>\n",
       "      <td>30810835</td>\n",
       "      <td>DRIVING UNDER THE INFLUENCE</td>\n",
       "      <td>DRIVING WHILE UNDER THE INFLUENCE OF ALCOHOL</td>\n",
       "      <td>Tuesday</td>\n",
       "      <td>2003-07-08T00:00:00</td>\n",
       "      <td>01:00</td>\n",
       "      <td>SOUTHERN</td>\n",
       "      <td>ARREST, BOOKED</td>\n",
       "      <td>MASON ST / TURK ST</td>\n",
       "      <td>-122.408954</td>\n",
       "      <td>37.783288</td>\n",
       "      <td>{'latitude': '37.7832878735491', 'human_addres...</td>\n",
       "      <td>3081083565050</td>\n",
       "    </tr>\n",
       "    <tr>\n",
       "      <th>4</th>\n",
       "      <td>130839567</td>\n",
       "      <td>OTHER OFFENSES</td>\n",
       "      <td>TRAFFIC VIOLATION ARREST</td>\n",
       "      <td>Friday</td>\n",
       "      <td>2013-10-04T00:00:00</td>\n",
       "      <td>20:53</td>\n",
       "      <td>TENDERLOIN</td>\n",
       "      <td>ARREST, BOOKED</td>\n",
       "      <td>TURK ST / LEAVENWORTH ST</td>\n",
       "      <td>-122.414056</td>\n",
       "      <td>37.782793</td>\n",
       "      <td>{'latitude': '37.7827931071006', 'human_addres...</td>\n",
       "      <td>13083956765010</td>\n",
       "    </tr>\n",
       "  </tbody>\n",
       "</table>\n",
       "</div>"
      ],
      "text/plain": [
       "   IncidntNum                     Category  \\\n",
       "0    50436712                      ASSAULT   \n",
       "1    80049078                LARCENY/THEFT   \n",
       "2   130366639                      ASSAULT   \n",
       "3    30810835  DRIVING UNDER THE INFLUENCE   \n",
       "4   130839567               OTHER OFFENSES   \n",
       "\n",
       "                                       Descript  DayOfWeek  \\\n",
       "0                                       BATTERY  Wednesday   \n",
       "1                   GRAND THEFT FROM A BUILDING     Sunday   \n",
       "2               AGGRAVATED ASSAULT WITH A KNIFE     Sunday   \n",
       "3  DRIVING WHILE UNDER THE INFLUENCE OF ALCOHOL    Tuesday   \n",
       "4                      TRAFFIC VIOLATION ARREST     Friday   \n",
       "\n",
       "                  Date   Time  PdDistrict      Resolution  \\\n",
       "0  2005-04-20T00:00:00  04:00     MISSION            NONE   \n",
       "1  2008-01-13T00:00:00  18:00        PARK            NONE   \n",
       "2  2013-05-05T00:00:00  04:10   INGLESIDE  ARREST, BOOKED   \n",
       "3  2003-07-08T00:00:00  01:00    SOUTHERN  ARREST, BOOKED   \n",
       "4  2013-10-04T00:00:00  20:53  TENDERLOIN  ARREST, BOOKED   \n",
       "\n",
       "                       Address           X          Y  \\\n",
       "0          18TH ST / CASTRO ST -122.435003  37.760888   \n",
       "1     1100 Block of CLAYTON ST -122.446838  37.762255   \n",
       "2  0 Block of SGTJOHNVYOUNG LN -122.444707  37.724931   \n",
       "3           MASON ST / TURK ST -122.408954  37.783288   \n",
       "4     TURK ST / LEAVENWORTH ST -122.414056  37.782793   \n",
       "\n",
       "                                            Location            PdId  \n",
       "0  {'latitude': '37.7608878061245', 'human_addres...   5043671204134  \n",
       "1  {'latitude': '37.7622550270122', 'human_addres...   8004907806304  \n",
       "2  {'latitude': '37.7249307267936', 'human_addres...  13036663904012  \n",
       "3  {'latitude': '37.7832878735491', 'human_addres...   3081083565050  \n",
       "4  {'latitude': '37.7827931071006', 'human_addres...  13083956765010  "
      ]
     },
     "execution_count": 210,
     "metadata": {},
     "output_type": "execute_result"
    }
   ],
   "source": [
    "incident_df.head()"
   ]
  },
  {
   "cell_type": "code",
   "execution_count": 211,
   "metadata": {},
   "outputs": [
    {
     "data": {
      "text/plain": [
       "(2215024, 13)"
      ]
     },
     "execution_count": 211,
     "metadata": {},
     "output_type": "execute_result"
    }
   ],
   "source": [
    "incident_df.shape"
   ]
  },
  {
   "cell_type": "code",
   "execution_count": 212,
   "metadata": {},
   "outputs": [
    {
     "data": {
      "text/plain": [
       "IncidntNum      int64\n",
       "Category       object\n",
       "Descript       object\n",
       "DayOfWeek      object\n",
       "Date           object\n",
       "Time           object\n",
       "PdDistrict     object\n",
       "Resolution     object\n",
       "Address        object\n",
       "X             float64\n",
       "Y             float64\n",
       "Location       object\n",
       "PdId            int64\n",
       "dtype: object"
      ]
     },
     "execution_count": 212,
     "metadata": {},
     "output_type": "execute_result"
    }
   ],
   "source": [
    "incident_df.dtypes"
   ]
  },
  {
   "cell_type": "code",
   "execution_count": 213,
   "metadata": {},
   "outputs": [
    {
     "data": {
      "text/plain": [
       "'{\\'latitude\\': \\'37.7608878061245\\', \\'human_address\\': \\'{\"address\":\"\",\"city\":\"\",\"state\":\"\",\"zip\":\"\"}\\', \\'longitude\\': \\'-122.435002864271\\', \\'needs_recoding\\': False}'"
      ]
     },
     "execution_count": 213,
     "metadata": {},
     "output_type": "execute_result"
    }
   ],
   "source": [
    "incident_df['Location'][0]"
   ]
  },
  {
   "cell_type": "code",
   "execution_count": 214,
   "metadata": {},
   "outputs": [],
   "source": [
    "data = np.array(incident_df[['X', 'Y']])"
   ]
  },
  {
   "cell_type": "code",
   "execution_count": 215,
   "metadata": {},
   "outputs": [
    {
     "data": {
      "text/plain": [
       "(2215024, 2)"
      ]
     },
     "execution_count": 215,
     "metadata": {},
     "output_type": "execute_result"
    }
   ],
   "source": [
    "data.shape"
   ]
  },
  {
   "cell_type": "code",
   "execution_count": 216,
   "metadata": {},
   "outputs": [
    {
     "data": {
      "text/plain": [
       "array([-122.43500286,   37.76088781])"
      ]
     },
     "execution_count": 216,
     "metadata": {},
     "output_type": "execute_result"
    }
   ],
   "source": [
    "data[0]"
   ]
  },
  {
   "cell_type": "code",
   "execution_count": 217,
   "metadata": {},
   "outputs": [
    {
     "data": {
      "text/html": [
       "<div>\n",
       "<style scoped>\n",
       "    .dataframe tbody tr th:only-of-type {\n",
       "        vertical-align: middle;\n",
       "    }\n",
       "\n",
       "    .dataframe tbody tr th {\n",
       "        vertical-align: top;\n",
       "    }\n",
       "\n",
       "    .dataframe thead th {\n",
       "        text-align: right;\n",
       "    }\n",
       "</style>\n",
       "<table border=\"1\" class=\"dataframe\">\n",
       "  <thead>\n",
       "    <tr style=\"text-align: right;\">\n",
       "      <th></th>\n",
       "      <th>IncidntNum</th>\n",
       "      <th>Category</th>\n",
       "      <th>Descript</th>\n",
       "      <th>DayOfWeek</th>\n",
       "      <th>Date</th>\n",
       "      <th>Time</th>\n",
       "      <th>PdDistrict</th>\n",
       "      <th>Resolution</th>\n",
       "      <th>Address</th>\n",
       "      <th>X</th>\n",
       "      <th>Y</th>\n",
       "      <th>Location</th>\n",
       "      <th>PdId</th>\n",
       "    </tr>\n",
       "  </thead>\n",
       "  <tbody>\n",
       "    <tr>\n",
       "      <th>851987</th>\n",
       "      <td>30004674</td>\n",
       "      <td>NON-CRIMINAL</td>\n",
       "      <td>LOST PROPERTY</td>\n",
       "      <td>Wednesday</td>\n",
       "      <td>2003-01-01T00:00:00</td>\n",
       "      <td>09:00</td>\n",
       "      <td>CENTRAL</td>\n",
       "      <td>NONE</td>\n",
       "      <td>STOCKTON ST / PACIFIC AV</td>\n",
       "      <td>-122.408433</td>\n",
       "      <td>37.796704</td>\n",
       "      <td>{'latitude': '37.7967039278214', 'human_addres...</td>\n",
       "      <td>3000467471000</td>\n",
       "    </tr>\n",
       "    <tr>\n",
       "      <th>386228</th>\n",
       "      <td>40401935</td>\n",
       "      <td>SUSPICIOUS OCC</td>\n",
       "      <td>SUSPICIOUS OCCURRENCE</td>\n",
       "      <td>Wednesday</td>\n",
       "      <td>2003-01-01T00:00:00</td>\n",
       "      <td>09:00</td>\n",
       "      <td>PARK</td>\n",
       "      <td>NONE</td>\n",
       "      <td>800 Block of PAGE ST</td>\n",
       "      <td>-122.434769</td>\n",
       "      <td>37.772571</td>\n",
       "      <td>{'latitude': '37.7725714571495', 'human_addres...</td>\n",
       "      <td>4040193564070</td>\n",
       "    </tr>\n",
       "    <tr>\n",
       "      <th>249948</th>\n",
       "      <td>30001670</td>\n",
       "      <td>DRUG/NARCOTIC</td>\n",
       "      <td>POSSESSION OF MARIJUANA FOR SALES</td>\n",
       "      <td>Wednesday</td>\n",
       "      <td>2003-01-01T00:00:00</td>\n",
       "      <td>10:04</td>\n",
       "      <td>SOUTHERN</td>\n",
       "      <td>ARREST, BOOKED</td>\n",
       "      <td>6TH ST / MINNA ST</td>\n",
       "      <td>-122.408163</td>\n",
       "      <td>37.780535</td>\n",
       "      <td>{'latitude': '37.7805345385049', 'human_addres...</td>\n",
       "      <td>3000167016030</td>\n",
       "    </tr>\n",
       "    <tr>\n",
       "      <th>1017624</th>\n",
       "      <td>30000581</td>\n",
       "      <td>ASSAULT</td>\n",
       "      <td>AGGRAVATED ASSAULT WITH A DEADLY WEAPON</td>\n",
       "      <td>Wednesday</td>\n",
       "      <td>2003-01-01T00:00:00</td>\n",
       "      <td>02:05</td>\n",
       "      <td>CENTRAL</td>\n",
       "      <td>ARREST, BOOKED</td>\n",
       "      <td>300 Block of COLUMBUS AV</td>\n",
       "      <td>-122.406843</td>\n",
       "      <td>37.798059</td>\n",
       "      <td>{'latitude': '37.7980587205991', 'human_addres...</td>\n",
       "      <td>3000058104013</td>\n",
       "    </tr>\n",
       "    <tr>\n",
       "      <th>746537</th>\n",
       "      <td>30003604</td>\n",
       "      <td>OTHER OFFENSES</td>\n",
       "      <td>TRAFFIC VIOLATION ARREST</td>\n",
       "      <td>Wednesday</td>\n",
       "      <td>2003-01-01T00:00:00</td>\n",
       "      <td>21:55</td>\n",
       "      <td>BAYVIEW</td>\n",
       "      <td>ARREST, BOOKED</td>\n",
       "      <td>5100 Block of 3RD ST</td>\n",
       "      <td>-122.392073</td>\n",
       "      <td>37.731263</td>\n",
       "      <td>{'latitude': '37.7312628705449', 'human_addres...</td>\n",
       "      <td>3000360465010</td>\n",
       "    </tr>\n",
       "  </tbody>\n",
       "</table>\n",
       "</div>"
      ],
      "text/plain": [
       "         IncidntNum        Category                                 Descript  \\\n",
       "851987     30004674    NON-CRIMINAL                            LOST PROPERTY   \n",
       "386228     40401935  SUSPICIOUS OCC                    SUSPICIOUS OCCURRENCE   \n",
       "249948     30001670   DRUG/NARCOTIC        POSSESSION OF MARIJUANA FOR SALES   \n",
       "1017624    30000581         ASSAULT  AGGRAVATED ASSAULT WITH A DEADLY WEAPON   \n",
       "746537     30003604  OTHER OFFENSES                 TRAFFIC VIOLATION ARREST   \n",
       "\n",
       "         DayOfWeek                 Date   Time PdDistrict      Resolution  \\\n",
       "851987   Wednesday  2003-01-01T00:00:00  09:00    CENTRAL            NONE   \n",
       "386228   Wednesday  2003-01-01T00:00:00  09:00       PARK            NONE   \n",
       "249948   Wednesday  2003-01-01T00:00:00  10:04   SOUTHERN  ARREST, BOOKED   \n",
       "1017624  Wednesday  2003-01-01T00:00:00  02:05    CENTRAL  ARREST, BOOKED   \n",
       "746537   Wednesday  2003-01-01T00:00:00  21:55    BAYVIEW  ARREST, BOOKED   \n",
       "\n",
       "                          Address           X          Y  \\\n",
       "851987   STOCKTON ST / PACIFIC AV -122.408433  37.796704   \n",
       "386228       800 Block of PAGE ST -122.434769  37.772571   \n",
       "249948          6TH ST / MINNA ST -122.408163  37.780535   \n",
       "1017624  300 Block of COLUMBUS AV -122.406843  37.798059   \n",
       "746537       5100 Block of 3RD ST -122.392073  37.731263   \n",
       "\n",
       "                                                  Location           PdId  \n",
       "851987   {'latitude': '37.7967039278214', 'human_addres...  3000467471000  \n",
       "386228   {'latitude': '37.7725714571495', 'human_addres...  4040193564070  \n",
       "249948   {'latitude': '37.7805345385049', 'human_addres...  3000167016030  \n",
       "1017624  {'latitude': '37.7980587205991', 'human_addres...  3000058104013  \n",
       "746537   {'latitude': '37.7312628705449', 'human_addres...  3000360465010  "
      ]
     },
     "execution_count": 217,
     "metadata": {},
     "output_type": "execute_result"
    }
   ],
   "source": [
    "incident_df.sort_values([\"Date\"], ascending=True, inplace = True)\n",
    "incident_df.head()"
   ]
  },
  {
   "cell_type": "code",
   "execution_count": 218,
   "metadata": {},
   "outputs": [
    {
     "data": {
      "text/html": [
       "<div>\n",
       "<style scoped>\n",
       "    .dataframe tbody tr th:only-of-type {\n",
       "        vertical-align: middle;\n",
       "    }\n",
       "\n",
       "    .dataframe tbody tr th {\n",
       "        vertical-align: top;\n",
       "    }\n",
       "\n",
       "    .dataframe thead th {\n",
       "        text-align: right;\n",
       "    }\n",
       "</style>\n",
       "<table border=\"1\" class=\"dataframe\">\n",
       "  <thead>\n",
       "    <tr style=\"text-align: right;\">\n",
       "      <th></th>\n",
       "      <th>index</th>\n",
       "      <th>IncidntNum</th>\n",
       "      <th>Category</th>\n",
       "      <th>Descript</th>\n",
       "      <th>DayOfWeek</th>\n",
       "      <th>Date</th>\n",
       "      <th>Time</th>\n",
       "      <th>PdDistrict</th>\n",
       "      <th>Resolution</th>\n",
       "      <th>Address</th>\n",
       "      <th>X</th>\n",
       "      <th>Y</th>\n",
       "      <th>Location</th>\n",
       "      <th>PdId</th>\n",
       "    </tr>\n",
       "  </thead>\n",
       "  <tbody>\n",
       "    <tr>\n",
       "      <th>0</th>\n",
       "      <td>851987</td>\n",
       "      <td>30004674</td>\n",
       "      <td>NON-CRIMINAL</td>\n",
       "      <td>LOST PROPERTY</td>\n",
       "      <td>Wednesday</td>\n",
       "      <td>2003-01-01T00:00:00</td>\n",
       "      <td>09:00</td>\n",
       "      <td>CENTRAL</td>\n",
       "      <td>NONE</td>\n",
       "      <td>STOCKTON ST / PACIFIC AV</td>\n",
       "      <td>-122.408433</td>\n",
       "      <td>37.796704</td>\n",
       "      <td>{'latitude': '37.7967039278214', 'human_addres...</td>\n",
       "      <td>3000467471000</td>\n",
       "    </tr>\n",
       "    <tr>\n",
       "      <th>1</th>\n",
       "      <td>386228</td>\n",
       "      <td>40401935</td>\n",
       "      <td>SUSPICIOUS OCC</td>\n",
       "      <td>SUSPICIOUS OCCURRENCE</td>\n",
       "      <td>Wednesday</td>\n",
       "      <td>2003-01-01T00:00:00</td>\n",
       "      <td>09:00</td>\n",
       "      <td>PARK</td>\n",
       "      <td>NONE</td>\n",
       "      <td>800 Block of PAGE ST</td>\n",
       "      <td>-122.434769</td>\n",
       "      <td>37.772571</td>\n",
       "      <td>{'latitude': '37.7725714571495', 'human_addres...</td>\n",
       "      <td>4040193564070</td>\n",
       "    </tr>\n",
       "    <tr>\n",
       "      <th>2</th>\n",
       "      <td>249948</td>\n",
       "      <td>30001670</td>\n",
       "      <td>DRUG/NARCOTIC</td>\n",
       "      <td>POSSESSION OF MARIJUANA FOR SALES</td>\n",
       "      <td>Wednesday</td>\n",
       "      <td>2003-01-01T00:00:00</td>\n",
       "      <td>10:04</td>\n",
       "      <td>SOUTHERN</td>\n",
       "      <td>ARREST, BOOKED</td>\n",
       "      <td>6TH ST / MINNA ST</td>\n",
       "      <td>-122.408163</td>\n",
       "      <td>37.780535</td>\n",
       "      <td>{'latitude': '37.7805345385049', 'human_addres...</td>\n",
       "      <td>3000167016030</td>\n",
       "    </tr>\n",
       "    <tr>\n",
       "      <th>3</th>\n",
       "      <td>1017624</td>\n",
       "      <td>30000581</td>\n",
       "      <td>ASSAULT</td>\n",
       "      <td>AGGRAVATED ASSAULT WITH A DEADLY WEAPON</td>\n",
       "      <td>Wednesday</td>\n",
       "      <td>2003-01-01T00:00:00</td>\n",
       "      <td>02:05</td>\n",
       "      <td>CENTRAL</td>\n",
       "      <td>ARREST, BOOKED</td>\n",
       "      <td>300 Block of COLUMBUS AV</td>\n",
       "      <td>-122.406843</td>\n",
       "      <td>37.798059</td>\n",
       "      <td>{'latitude': '37.7980587205991', 'human_addres...</td>\n",
       "      <td>3000058104013</td>\n",
       "    </tr>\n",
       "    <tr>\n",
       "      <th>4</th>\n",
       "      <td>746537</td>\n",
       "      <td>30003604</td>\n",
       "      <td>OTHER OFFENSES</td>\n",
       "      <td>TRAFFIC VIOLATION ARREST</td>\n",
       "      <td>Wednesday</td>\n",
       "      <td>2003-01-01T00:00:00</td>\n",
       "      <td>21:55</td>\n",
       "      <td>BAYVIEW</td>\n",
       "      <td>ARREST, BOOKED</td>\n",
       "      <td>5100 Block of 3RD ST</td>\n",
       "      <td>-122.392073</td>\n",
       "      <td>37.731263</td>\n",
       "      <td>{'latitude': '37.7312628705449', 'human_addres...</td>\n",
       "      <td>3000360465010</td>\n",
       "    </tr>\n",
       "  </tbody>\n",
       "</table>\n",
       "</div>"
      ],
      "text/plain": [
       "     index  IncidntNum        Category  \\\n",
       "0   851987    30004674    NON-CRIMINAL   \n",
       "1   386228    40401935  SUSPICIOUS OCC   \n",
       "2   249948    30001670   DRUG/NARCOTIC   \n",
       "3  1017624    30000581         ASSAULT   \n",
       "4   746537    30003604  OTHER OFFENSES   \n",
       "\n",
       "                                  Descript  DayOfWeek                 Date  \\\n",
       "0                            LOST PROPERTY  Wednesday  2003-01-01T00:00:00   \n",
       "1                    SUSPICIOUS OCCURRENCE  Wednesday  2003-01-01T00:00:00   \n",
       "2        POSSESSION OF MARIJUANA FOR SALES  Wednesday  2003-01-01T00:00:00   \n",
       "3  AGGRAVATED ASSAULT WITH A DEADLY WEAPON  Wednesday  2003-01-01T00:00:00   \n",
       "4                 TRAFFIC VIOLATION ARREST  Wednesday  2003-01-01T00:00:00   \n",
       "\n",
       "    Time PdDistrict      Resolution                   Address           X  \\\n",
       "0  09:00    CENTRAL            NONE  STOCKTON ST / PACIFIC AV -122.408433   \n",
       "1  09:00       PARK            NONE      800 Block of PAGE ST -122.434769   \n",
       "2  10:04   SOUTHERN  ARREST, BOOKED         6TH ST / MINNA ST -122.408163   \n",
       "3  02:05    CENTRAL  ARREST, BOOKED  300 Block of COLUMBUS AV -122.406843   \n",
       "4  21:55    BAYVIEW  ARREST, BOOKED      5100 Block of 3RD ST -122.392073   \n",
       "\n",
       "           Y                                           Location           PdId  \n",
       "0  37.796704  {'latitude': '37.7967039278214', 'human_addres...  3000467471000  \n",
       "1  37.772571  {'latitude': '37.7725714571495', 'human_addres...  4040193564070  \n",
       "2  37.780535  {'latitude': '37.7805345385049', 'human_addres...  3000167016030  \n",
       "3  37.798059  {'latitude': '37.7980587205991', 'human_addres...  3000058104013  \n",
       "4  37.731263  {'latitude': '37.7312628705449', 'human_addres...  3000360465010  "
      ]
     },
     "execution_count": 218,
     "metadata": {},
     "output_type": "execute_result"
    }
   ],
   "source": [
    "incident_df.reset_index(inplace=True)\n",
    "incident_df.head()"
   ]
  },
  {
   "cell_type": "markdown",
   "metadata": {},
   "source": [
    "## Step-2: Preprocessing"
   ]
  },
  {
   "cell_type": "markdown",
   "metadata": {},
   "source": [
    "### a) Feature Transformation"
   ]
  },
  {
   "cell_type": "code",
   "execution_count": 219,
   "metadata": {},
   "outputs": [
    {
     "data": {
      "text/html": [
       "<div>\n",
       "<style scoped>\n",
       "    .dataframe tbody tr th:only-of-type {\n",
       "        vertical-align: middle;\n",
       "    }\n",
       "\n",
       "    .dataframe tbody tr th {\n",
       "        vertical-align: top;\n",
       "    }\n",
       "\n",
       "    .dataframe thead th {\n",
       "        text-align: right;\n",
       "    }\n",
       "</style>\n",
       "<table border=\"1\" class=\"dataframe\">\n",
       "  <thead>\n",
       "    <tr style=\"text-align: right;\">\n",
       "      <th></th>\n",
       "      <th>index</th>\n",
       "      <th>IncidntNum</th>\n",
       "      <th>Category</th>\n",
       "      <th>Descript</th>\n",
       "      <th>DayOfWeek</th>\n",
       "      <th>Date</th>\n",
       "      <th>Time</th>\n",
       "      <th>PdDistrict</th>\n",
       "      <th>Resolution</th>\n",
       "      <th>Address</th>\n",
       "      <th>X</th>\n",
       "      <th>Y</th>\n",
       "      <th>Location</th>\n",
       "      <th>PdId</th>\n",
       "      <th>Resolution Status</th>\n",
       "    </tr>\n",
       "  </thead>\n",
       "  <tbody>\n",
       "    <tr>\n",
       "      <th>0</th>\n",
       "      <td>851987</td>\n",
       "      <td>30004674</td>\n",
       "      <td>NON-CRIMINAL</td>\n",
       "      <td>LOST PROPERTY</td>\n",
       "      <td>Wednesday</td>\n",
       "      <td>2003-01-01T00:00:00</td>\n",
       "      <td>09:00</td>\n",
       "      <td>CENTRAL</td>\n",
       "      <td>NONE</td>\n",
       "      <td>STOCKTON ST / PACIFIC AV</td>\n",
       "      <td>-122.408433</td>\n",
       "      <td>37.796704</td>\n",
       "      <td>{'latitude': '37.7967039278214', 'human_addres...</td>\n",
       "      <td>3000467471000</td>\n",
       "      <td>Unresolved</td>\n",
       "    </tr>\n",
       "    <tr>\n",
       "      <th>1</th>\n",
       "      <td>386228</td>\n",
       "      <td>40401935</td>\n",
       "      <td>SUSPICIOUS OCC</td>\n",
       "      <td>SUSPICIOUS OCCURRENCE</td>\n",
       "      <td>Wednesday</td>\n",
       "      <td>2003-01-01T00:00:00</td>\n",
       "      <td>09:00</td>\n",
       "      <td>PARK</td>\n",
       "      <td>NONE</td>\n",
       "      <td>800 Block of PAGE ST</td>\n",
       "      <td>-122.434769</td>\n",
       "      <td>37.772571</td>\n",
       "      <td>{'latitude': '37.7725714571495', 'human_addres...</td>\n",
       "      <td>4040193564070</td>\n",
       "      <td>Unresolved</td>\n",
       "    </tr>\n",
       "    <tr>\n",
       "      <th>2</th>\n",
       "      <td>249948</td>\n",
       "      <td>30001670</td>\n",
       "      <td>DRUG/NARCOTIC</td>\n",
       "      <td>POSSESSION OF MARIJUANA FOR SALES</td>\n",
       "      <td>Wednesday</td>\n",
       "      <td>2003-01-01T00:00:00</td>\n",
       "      <td>10:04</td>\n",
       "      <td>SOUTHERN</td>\n",
       "      <td>ARREST, BOOKED</td>\n",
       "      <td>6TH ST / MINNA ST</td>\n",
       "      <td>-122.408163</td>\n",
       "      <td>37.780535</td>\n",
       "      <td>{'latitude': '37.7805345385049', 'human_addres...</td>\n",
       "      <td>3000167016030</td>\n",
       "      <td>Resolved</td>\n",
       "    </tr>\n",
       "    <tr>\n",
       "      <th>3</th>\n",
       "      <td>1017624</td>\n",
       "      <td>30000581</td>\n",
       "      <td>ASSAULT</td>\n",
       "      <td>AGGRAVATED ASSAULT WITH A DEADLY WEAPON</td>\n",
       "      <td>Wednesday</td>\n",
       "      <td>2003-01-01T00:00:00</td>\n",
       "      <td>02:05</td>\n",
       "      <td>CENTRAL</td>\n",
       "      <td>ARREST, BOOKED</td>\n",
       "      <td>300 Block of COLUMBUS AV</td>\n",
       "      <td>-122.406843</td>\n",
       "      <td>37.798059</td>\n",
       "      <td>{'latitude': '37.7980587205991', 'human_addres...</td>\n",
       "      <td>3000058104013</td>\n",
       "      <td>Resolved</td>\n",
       "    </tr>\n",
       "    <tr>\n",
       "      <th>4</th>\n",
       "      <td>746537</td>\n",
       "      <td>30003604</td>\n",
       "      <td>OTHER OFFENSES</td>\n",
       "      <td>TRAFFIC VIOLATION ARREST</td>\n",
       "      <td>Wednesday</td>\n",
       "      <td>2003-01-01T00:00:00</td>\n",
       "      <td>21:55</td>\n",
       "      <td>BAYVIEW</td>\n",
       "      <td>ARREST, BOOKED</td>\n",
       "      <td>5100 Block of 3RD ST</td>\n",
       "      <td>-122.392073</td>\n",
       "      <td>37.731263</td>\n",
       "      <td>{'latitude': '37.7312628705449', 'human_addres...</td>\n",
       "      <td>3000360465010</td>\n",
       "      <td>Resolved</td>\n",
       "    </tr>\n",
       "  </tbody>\n",
       "</table>\n",
       "</div>"
      ],
      "text/plain": [
       "     index  IncidntNum        Category  \\\n",
       "0   851987    30004674    NON-CRIMINAL   \n",
       "1   386228    40401935  SUSPICIOUS OCC   \n",
       "2   249948    30001670   DRUG/NARCOTIC   \n",
       "3  1017624    30000581         ASSAULT   \n",
       "4   746537    30003604  OTHER OFFENSES   \n",
       "\n",
       "                                  Descript  DayOfWeek                 Date  \\\n",
       "0                            LOST PROPERTY  Wednesday  2003-01-01T00:00:00   \n",
       "1                    SUSPICIOUS OCCURRENCE  Wednesday  2003-01-01T00:00:00   \n",
       "2        POSSESSION OF MARIJUANA FOR SALES  Wednesday  2003-01-01T00:00:00   \n",
       "3  AGGRAVATED ASSAULT WITH A DEADLY WEAPON  Wednesday  2003-01-01T00:00:00   \n",
       "4                 TRAFFIC VIOLATION ARREST  Wednesday  2003-01-01T00:00:00   \n",
       "\n",
       "    Time PdDistrict      Resolution                   Address           X  \\\n",
       "0  09:00    CENTRAL            NONE  STOCKTON ST / PACIFIC AV -122.408433   \n",
       "1  09:00       PARK            NONE      800 Block of PAGE ST -122.434769   \n",
       "2  10:04   SOUTHERN  ARREST, BOOKED         6TH ST / MINNA ST -122.408163   \n",
       "3  02:05    CENTRAL  ARREST, BOOKED  300 Block of COLUMBUS AV -122.406843   \n",
       "4  21:55    BAYVIEW  ARREST, BOOKED      5100 Block of 3RD ST -122.392073   \n",
       "\n",
       "           Y                                           Location  \\\n",
       "0  37.796704  {'latitude': '37.7967039278214', 'human_addres...   \n",
       "1  37.772571  {'latitude': '37.7725714571495', 'human_addres...   \n",
       "2  37.780535  {'latitude': '37.7805345385049', 'human_addres...   \n",
       "3  37.798059  {'latitude': '37.7980587205991', 'human_addres...   \n",
       "4  37.731263  {'latitude': '37.7312628705449', 'human_addres...   \n",
       "\n",
       "            PdId Resolution Status  \n",
       "0  3000467471000        Unresolved  \n",
       "1  4040193564070        Unresolved  \n",
       "2  3000167016030          Resolved  \n",
       "3  3000058104013          Resolved  \n",
       "4  3000360465010          Resolved  "
      ]
     },
     "execution_count": 219,
     "metadata": {},
     "output_type": "execute_result"
    }
   ],
   "source": [
    "incident_df['Resolution Status'] = np.where(incident_df[\"Resolution\"]=='NONE', \"Unresolved\",\"Resolved\")\n",
    "incident_df.head()"
   ]
  },
  {
   "cell_type": "markdown",
   "metadata": {},
   "source": [
    "### b) Discretization"
   ]
  },
  {
   "cell_type": "code",
   "execution_count": 220,
   "metadata": {},
   "outputs": [
    {
     "data": {
      "text/html": [
       "<div>\n",
       "<style scoped>\n",
       "    .dataframe tbody tr th:only-of-type {\n",
       "        vertical-align: middle;\n",
       "    }\n",
       "\n",
       "    .dataframe tbody tr th {\n",
       "        vertical-align: top;\n",
       "    }\n",
       "\n",
       "    .dataframe thead th {\n",
       "        text-align: right;\n",
       "    }\n",
       "</style>\n",
       "<table border=\"1\" class=\"dataframe\">\n",
       "  <thead>\n",
       "    <tr style=\"text-align: right;\">\n",
       "      <th></th>\n",
       "      <th>index</th>\n",
       "      <th>IncidntNum</th>\n",
       "      <th>Category</th>\n",
       "      <th>Descript</th>\n",
       "      <th>DayOfWeek</th>\n",
       "      <th>Date</th>\n",
       "      <th>Time</th>\n",
       "      <th>PdDistrict</th>\n",
       "      <th>Resolution</th>\n",
       "      <th>Address</th>\n",
       "      <th>X</th>\n",
       "      <th>Y</th>\n",
       "      <th>Location</th>\n",
       "      <th>PdId</th>\n",
       "      <th>Resolution Status</th>\n",
       "      <th>Period of day</th>\n",
       "    </tr>\n",
       "  </thead>\n",
       "  <tbody>\n",
       "    <tr>\n",
       "      <th>0</th>\n",
       "      <td>851987</td>\n",
       "      <td>30004674</td>\n",
       "      <td>NON-CRIMINAL</td>\n",
       "      <td>LOST PROPERTY</td>\n",
       "      <td>Wednesday</td>\n",
       "      <td>2003-01-01T00:00:00</td>\n",
       "      <td>09:00</td>\n",
       "      <td>CENTRAL</td>\n",
       "      <td>NONE</td>\n",
       "      <td>STOCKTON ST / PACIFIC AV</td>\n",
       "      <td>-122.408433</td>\n",
       "      <td>37.796704</td>\n",
       "      <td>{'latitude': '37.7967039278214', 'human_addres...</td>\n",
       "      <td>3000467471000</td>\n",
       "      <td>Unresolved</td>\n",
       "      <td>Morning</td>\n",
       "    </tr>\n",
       "    <tr>\n",
       "      <th>1</th>\n",
       "      <td>386228</td>\n",
       "      <td>40401935</td>\n",
       "      <td>SUSPICIOUS OCC</td>\n",
       "      <td>SUSPICIOUS OCCURRENCE</td>\n",
       "      <td>Wednesday</td>\n",
       "      <td>2003-01-01T00:00:00</td>\n",
       "      <td>09:00</td>\n",
       "      <td>PARK</td>\n",
       "      <td>NONE</td>\n",
       "      <td>800 Block of PAGE ST</td>\n",
       "      <td>-122.434769</td>\n",
       "      <td>37.772571</td>\n",
       "      <td>{'latitude': '37.7725714571495', 'human_addres...</td>\n",
       "      <td>4040193564070</td>\n",
       "      <td>Unresolved</td>\n",
       "      <td>Morning</td>\n",
       "    </tr>\n",
       "    <tr>\n",
       "      <th>2</th>\n",
       "      <td>249948</td>\n",
       "      <td>30001670</td>\n",
       "      <td>DRUG/NARCOTIC</td>\n",
       "      <td>POSSESSION OF MARIJUANA FOR SALES</td>\n",
       "      <td>Wednesday</td>\n",
       "      <td>2003-01-01T00:00:00</td>\n",
       "      <td>10:04</td>\n",
       "      <td>SOUTHERN</td>\n",
       "      <td>ARREST, BOOKED</td>\n",
       "      <td>6TH ST / MINNA ST</td>\n",
       "      <td>-122.408163</td>\n",
       "      <td>37.780535</td>\n",
       "      <td>{'latitude': '37.7805345385049', 'human_addres...</td>\n",
       "      <td>3000167016030</td>\n",
       "      <td>Resolved</td>\n",
       "      <td>Morning</td>\n",
       "    </tr>\n",
       "    <tr>\n",
       "      <th>3</th>\n",
       "      <td>1017624</td>\n",
       "      <td>30000581</td>\n",
       "      <td>ASSAULT</td>\n",
       "      <td>AGGRAVATED ASSAULT WITH A DEADLY WEAPON</td>\n",
       "      <td>Wednesday</td>\n",
       "      <td>2003-01-01T00:00:00</td>\n",
       "      <td>02:05</td>\n",
       "      <td>CENTRAL</td>\n",
       "      <td>ARREST, BOOKED</td>\n",
       "      <td>300 Block of COLUMBUS AV</td>\n",
       "      <td>-122.406843</td>\n",
       "      <td>37.798059</td>\n",
       "      <td>{'latitude': '37.7980587205991', 'human_addres...</td>\n",
       "      <td>3000058104013</td>\n",
       "      <td>Resolved</td>\n",
       "      <td>EarlyMorning</td>\n",
       "    </tr>\n",
       "    <tr>\n",
       "      <th>4</th>\n",
       "      <td>746537</td>\n",
       "      <td>30003604</td>\n",
       "      <td>OTHER OFFENSES</td>\n",
       "      <td>TRAFFIC VIOLATION ARREST</td>\n",
       "      <td>Wednesday</td>\n",
       "      <td>2003-01-01T00:00:00</td>\n",
       "      <td>21:55</td>\n",
       "      <td>BAYVIEW</td>\n",
       "      <td>ARREST, BOOKED</td>\n",
       "      <td>5100 Block of 3RD ST</td>\n",
       "      <td>-122.392073</td>\n",
       "      <td>37.731263</td>\n",
       "      <td>{'latitude': '37.7312628705449', 'human_addres...</td>\n",
       "      <td>3000360465010</td>\n",
       "      <td>Resolved</td>\n",
       "      <td>Night</td>\n",
       "    </tr>\n",
       "  </tbody>\n",
       "</table>\n",
       "</div>"
      ],
      "text/plain": [
       "     index  IncidntNum        Category  \\\n",
       "0   851987    30004674    NON-CRIMINAL   \n",
       "1   386228    40401935  SUSPICIOUS OCC   \n",
       "2   249948    30001670   DRUG/NARCOTIC   \n",
       "3  1017624    30000581         ASSAULT   \n",
       "4   746537    30003604  OTHER OFFENSES   \n",
       "\n",
       "                                  Descript  DayOfWeek                 Date  \\\n",
       "0                            LOST PROPERTY  Wednesday  2003-01-01T00:00:00   \n",
       "1                    SUSPICIOUS OCCURRENCE  Wednesday  2003-01-01T00:00:00   \n",
       "2        POSSESSION OF MARIJUANA FOR SALES  Wednesday  2003-01-01T00:00:00   \n",
       "3  AGGRAVATED ASSAULT WITH A DEADLY WEAPON  Wednesday  2003-01-01T00:00:00   \n",
       "4                 TRAFFIC VIOLATION ARREST  Wednesday  2003-01-01T00:00:00   \n",
       "\n",
       "    Time PdDistrict      Resolution                   Address           X  \\\n",
       "0  09:00    CENTRAL            NONE  STOCKTON ST / PACIFIC AV -122.408433   \n",
       "1  09:00       PARK            NONE      800 Block of PAGE ST -122.434769   \n",
       "2  10:04   SOUTHERN  ARREST, BOOKED         6TH ST / MINNA ST -122.408163   \n",
       "3  02:05    CENTRAL  ARREST, BOOKED  300 Block of COLUMBUS AV -122.406843   \n",
       "4  21:55    BAYVIEW  ARREST, BOOKED      5100 Block of 3RD ST -122.392073   \n",
       "\n",
       "           Y                                           Location  \\\n",
       "0  37.796704  {'latitude': '37.7967039278214', 'human_addres...   \n",
       "1  37.772571  {'latitude': '37.7725714571495', 'human_addres...   \n",
       "2  37.780535  {'latitude': '37.7805345385049', 'human_addres...   \n",
       "3  37.798059  {'latitude': '37.7980587205991', 'human_addres...   \n",
       "4  37.731263  {'latitude': '37.7312628705449', 'human_addres...   \n",
       "\n",
       "            PdId Resolution Status Period of day  \n",
       "0  3000467471000        Unresolved       Morning  \n",
       "1  4040193564070        Unresolved       Morning  \n",
       "2  3000167016030          Resolved       Morning  \n",
       "3  3000058104013          Resolved  EarlyMorning  \n",
       "4  3000360465010          Resolved         Night  "
      ]
     },
     "execution_count": 220,
     "metadata": {},
     "output_type": "execute_result"
    }
   ],
   "source": [
    "bins = [0, 7, 14, 20, 23]\n",
    "group_names = ['EarlyMorning', 'Morning', 'Evening', 'Night']\n",
    "\n",
    "\n",
    "incident_df[\"Period of day\"] = pd.cut(incident_df[\"Time\"].str.rstrip(':').str.split(':').str[0].astype(int), \n",
    "                                 bins, labels=group_names)\n",
    "incident_df.head()"
   ]
  },
  {
   "cell_type": "code",
   "execution_count": 221,
   "metadata": {},
   "outputs": [
    {
     "data": {
      "text/html": [
       "<div>\n",
       "<style scoped>\n",
       "    .dataframe tbody tr th:only-of-type {\n",
       "        vertical-align: middle;\n",
       "    }\n",
       "\n",
       "    .dataframe tbody tr th {\n",
       "        vertical-align: top;\n",
       "    }\n",
       "\n",
       "    .dataframe thead th {\n",
       "        text-align: right;\n",
       "    }\n",
       "</style>\n",
       "<table border=\"1\" class=\"dataframe\">\n",
       "  <thead>\n",
       "    <tr style=\"text-align: right;\">\n",
       "      <th></th>\n",
       "      <th>index</th>\n",
       "      <th>IncidntNum</th>\n",
       "      <th>Category</th>\n",
       "      <th>Descript</th>\n",
       "      <th>DayOfWeek</th>\n",
       "      <th>Date</th>\n",
       "      <th>Time</th>\n",
       "      <th>PdDistrict</th>\n",
       "      <th>Resolution</th>\n",
       "      <th>Address</th>\n",
       "      <th>X</th>\n",
       "      <th>Y</th>\n",
       "      <th>Location</th>\n",
       "      <th>PdId</th>\n",
       "      <th>Resolution Status</th>\n",
       "      <th>Period of day</th>\n",
       "    </tr>\n",
       "  </thead>\n",
       "  <tbody>\n",
       "    <tr>\n",
       "      <th>0</th>\n",
       "      <td>851987</td>\n",
       "      <td>30004674</td>\n",
       "      <td>NON-CRIMINAL</td>\n",
       "      <td>LOST PROPERTY</td>\n",
       "      <td>Wednesday</td>\n",
       "      <td>2003-01-01</td>\n",
       "      <td>09:00</td>\n",
       "      <td>CENTRAL</td>\n",
       "      <td>NONE</td>\n",
       "      <td>STOCKTON ST / PACIFIC AV</td>\n",
       "      <td>-122.408433</td>\n",
       "      <td>37.796704</td>\n",
       "      <td>{'latitude': '37.7967039278214', 'human_addres...</td>\n",
       "      <td>3000467471000</td>\n",
       "      <td>Unresolved</td>\n",
       "      <td>Morning</td>\n",
       "    </tr>\n",
       "    <tr>\n",
       "      <th>1</th>\n",
       "      <td>386228</td>\n",
       "      <td>40401935</td>\n",
       "      <td>SUSPICIOUS OCC</td>\n",
       "      <td>SUSPICIOUS OCCURRENCE</td>\n",
       "      <td>Wednesday</td>\n",
       "      <td>2003-01-01</td>\n",
       "      <td>09:00</td>\n",
       "      <td>PARK</td>\n",
       "      <td>NONE</td>\n",
       "      <td>800 Block of PAGE ST</td>\n",
       "      <td>-122.434769</td>\n",
       "      <td>37.772571</td>\n",
       "      <td>{'latitude': '37.7725714571495', 'human_addres...</td>\n",
       "      <td>4040193564070</td>\n",
       "      <td>Unresolved</td>\n",
       "      <td>Morning</td>\n",
       "    </tr>\n",
       "    <tr>\n",
       "      <th>2</th>\n",
       "      <td>249948</td>\n",
       "      <td>30001670</td>\n",
       "      <td>DRUG/NARCOTIC</td>\n",
       "      <td>POSSESSION OF MARIJUANA FOR SALES</td>\n",
       "      <td>Wednesday</td>\n",
       "      <td>2003-01-01</td>\n",
       "      <td>10:04</td>\n",
       "      <td>SOUTHERN</td>\n",
       "      <td>ARREST, BOOKED</td>\n",
       "      <td>6TH ST / MINNA ST</td>\n",
       "      <td>-122.408163</td>\n",
       "      <td>37.780535</td>\n",
       "      <td>{'latitude': '37.7805345385049', 'human_addres...</td>\n",
       "      <td>3000167016030</td>\n",
       "      <td>Resolved</td>\n",
       "      <td>Morning</td>\n",
       "    </tr>\n",
       "    <tr>\n",
       "      <th>3</th>\n",
       "      <td>1017624</td>\n",
       "      <td>30000581</td>\n",
       "      <td>ASSAULT</td>\n",
       "      <td>AGGRAVATED ASSAULT WITH A DEADLY WEAPON</td>\n",
       "      <td>Wednesday</td>\n",
       "      <td>2003-01-01</td>\n",
       "      <td>02:05</td>\n",
       "      <td>CENTRAL</td>\n",
       "      <td>ARREST, BOOKED</td>\n",
       "      <td>300 Block of COLUMBUS AV</td>\n",
       "      <td>-122.406843</td>\n",
       "      <td>37.798059</td>\n",
       "      <td>{'latitude': '37.7980587205991', 'human_addres...</td>\n",
       "      <td>3000058104013</td>\n",
       "      <td>Resolved</td>\n",
       "      <td>EarlyMorning</td>\n",
       "    </tr>\n",
       "    <tr>\n",
       "      <th>4</th>\n",
       "      <td>746537</td>\n",
       "      <td>30003604</td>\n",
       "      <td>OTHER OFFENSES</td>\n",
       "      <td>TRAFFIC VIOLATION ARREST</td>\n",
       "      <td>Wednesday</td>\n",
       "      <td>2003-01-01</td>\n",
       "      <td>21:55</td>\n",
       "      <td>BAYVIEW</td>\n",
       "      <td>ARREST, BOOKED</td>\n",
       "      <td>5100 Block of 3RD ST</td>\n",
       "      <td>-122.392073</td>\n",
       "      <td>37.731263</td>\n",
       "      <td>{'latitude': '37.7312628705449', 'human_addres...</td>\n",
       "      <td>3000360465010</td>\n",
       "      <td>Resolved</td>\n",
       "      <td>Night</td>\n",
       "    </tr>\n",
       "  </tbody>\n",
       "</table>\n",
       "</div>"
      ],
      "text/plain": [
       "     index  IncidntNum        Category  \\\n",
       "0   851987    30004674    NON-CRIMINAL   \n",
       "1   386228    40401935  SUSPICIOUS OCC   \n",
       "2   249948    30001670   DRUG/NARCOTIC   \n",
       "3  1017624    30000581         ASSAULT   \n",
       "4   746537    30003604  OTHER OFFENSES   \n",
       "\n",
       "                                  Descript  DayOfWeek       Date   Time  \\\n",
       "0                            LOST PROPERTY  Wednesday 2003-01-01  09:00   \n",
       "1                    SUSPICIOUS OCCURRENCE  Wednesday 2003-01-01  09:00   \n",
       "2        POSSESSION OF MARIJUANA FOR SALES  Wednesday 2003-01-01  10:04   \n",
       "3  AGGRAVATED ASSAULT WITH A DEADLY WEAPON  Wednesday 2003-01-01  02:05   \n",
       "4                 TRAFFIC VIOLATION ARREST  Wednesday 2003-01-01  21:55   \n",
       "\n",
       "  PdDistrict      Resolution                   Address           X          Y  \\\n",
       "0    CENTRAL            NONE  STOCKTON ST / PACIFIC AV -122.408433  37.796704   \n",
       "1       PARK            NONE      800 Block of PAGE ST -122.434769  37.772571   \n",
       "2   SOUTHERN  ARREST, BOOKED         6TH ST / MINNA ST -122.408163  37.780535   \n",
       "3    CENTRAL  ARREST, BOOKED  300 Block of COLUMBUS AV -122.406843  37.798059   \n",
       "4    BAYVIEW  ARREST, BOOKED      5100 Block of 3RD ST -122.392073  37.731263   \n",
       "\n",
       "                                            Location           PdId  \\\n",
       "0  {'latitude': '37.7967039278214', 'human_addres...  3000467471000   \n",
       "1  {'latitude': '37.7725714571495', 'human_addres...  4040193564070   \n",
       "2  {'latitude': '37.7805345385049', 'human_addres...  3000167016030   \n",
       "3  {'latitude': '37.7980587205991', 'human_addres...  3000058104013   \n",
       "4  {'latitude': '37.7312628705449', 'human_addres...  3000360465010   \n",
       "\n",
       "  Resolution Status Period of day  \n",
       "0        Unresolved       Morning  \n",
       "1        Unresolved       Morning  \n",
       "2          Resolved       Morning  \n",
       "3          Resolved  EarlyMorning  \n",
       "4          Resolved         Night  "
      ]
     },
     "execution_count": 221,
     "metadata": {},
     "output_type": "execute_result"
    }
   ],
   "source": [
    "incident_df['Date'] = pd.to_datetime(incident_df['Date'])\n",
    "incident_df.head()"
   ]
  },
  {
   "cell_type": "markdown",
   "metadata": {},
   "source": [
    "### c) Feature Creation"
   ]
  },
  {
   "cell_type": "code",
   "execution_count": 222,
   "metadata": {},
   "outputs": [
    {
     "data": {
      "text/html": [
       "<div>\n",
       "<style scoped>\n",
       "    .dataframe tbody tr th:only-of-type {\n",
       "        vertical-align: middle;\n",
       "    }\n",
       "\n",
       "    .dataframe tbody tr th {\n",
       "        vertical-align: top;\n",
       "    }\n",
       "\n",
       "    .dataframe thead th {\n",
       "        text-align: right;\n",
       "    }\n",
       "</style>\n",
       "<table border=\"1\" class=\"dataframe\">\n",
       "  <thead>\n",
       "    <tr style=\"text-align: right;\">\n",
       "      <th></th>\n",
       "      <th>index</th>\n",
       "      <th>IncidntNum</th>\n",
       "      <th>Category</th>\n",
       "      <th>Descript</th>\n",
       "      <th>DayOfWeek</th>\n",
       "      <th>Date</th>\n",
       "      <th>Time</th>\n",
       "      <th>PdDistrict</th>\n",
       "      <th>Resolution</th>\n",
       "      <th>Address</th>\n",
       "      <th>X</th>\n",
       "      <th>Y</th>\n",
       "      <th>Location</th>\n",
       "      <th>PdId</th>\n",
       "      <th>Resolution Status</th>\n",
       "      <th>Period of day</th>\n",
       "      <th>Year</th>\n",
       "      <th>Day</th>\n",
       "      <th>Month</th>\n",
       "    </tr>\n",
       "  </thead>\n",
       "  <tbody>\n",
       "    <tr>\n",
       "      <th>2215019</th>\n",
       "      <td>2215016</td>\n",
       "      <td>180360829</td>\n",
       "      <td>OTHER OFFENSES</td>\n",
       "      <td>DRIVERS LICENSE, SUSPENDED OR REVOKED</td>\n",
       "      <td>Tuesday</td>\n",
       "      <td>2018-05-15</td>\n",
       "      <td>01:27</td>\n",
       "      <td>MISSION</td>\n",
       "      <td>NONE</td>\n",
       "      <td>700 Block of SHOTWELL ST</td>\n",
       "      <td>-122.415617</td>\n",
       "      <td>37.756414</td>\n",
       "      <td>{'latitude': '37.75641376904809', 'human_addre...</td>\n",
       "      <td>18036082965016</td>\n",
       "      <td>Unresolved</td>\n",
       "      <td>EarlyMorning</td>\n",
       "      <td>2018</td>\n",
       "      <td>15</td>\n",
       "      <td>5</td>\n",
       "    </tr>\n",
       "    <tr>\n",
       "      <th>2215020</th>\n",
       "      <td>2215015</td>\n",
       "      <td>180360794</td>\n",
       "      <td>WARRANTS</td>\n",
       "      <td>ENROUTE TO OUTSIDE JURISDICTION</td>\n",
       "      <td>Tuesday</td>\n",
       "      <td>2018-05-15</td>\n",
       "      <td>00:19</td>\n",
       "      <td>PARK</td>\n",
       "      <td>ARREST, BOOKED</td>\n",
       "      <td>1500 Block of HAIGHT ST</td>\n",
       "      <td>-122.447761</td>\n",
       "      <td>37.769846</td>\n",
       "      <td>{'latitude': '37.76984648754153', 'human_addre...</td>\n",
       "      <td>18036079462050</td>\n",
       "      <td>Resolved</td>\n",
       "      <td>NaN</td>\n",
       "      <td>2018</td>\n",
       "      <td>15</td>\n",
       "      <td>5</td>\n",
       "    </tr>\n",
       "    <tr>\n",
       "      <th>2215021</th>\n",
       "      <td>2215022</td>\n",
       "      <td>180360948</td>\n",
       "      <td>NON-CRIMINAL</td>\n",
       "      <td>AIDED CASE, MENTAL DISTURBED</td>\n",
       "      <td>Tuesday</td>\n",
       "      <td>2018-05-15</td>\n",
       "      <td>04:14</td>\n",
       "      <td>SOUTHERN</td>\n",
       "      <td>NONE</td>\n",
       "      <td>MARKET ST / SOUTH VAN NESS AV</td>\n",
       "      <td>-122.419258</td>\n",
       "      <td>37.775146</td>\n",
       "      <td>{'latitude': '37.77514629165388', 'human_addre...</td>\n",
       "      <td>18036094864020</td>\n",
       "      <td>Unresolved</td>\n",
       "      <td>EarlyMorning</td>\n",
       "      <td>2018</td>\n",
       "      <td>15</td>\n",
       "      <td>5</td>\n",
       "    </tr>\n",
       "    <tr>\n",
       "      <th>2215022</th>\n",
       "      <td>2215017</td>\n",
       "      <td>180360835</td>\n",
       "      <td>ROBBERY</td>\n",
       "      <td>ROBBERY, BODILY FORCE</td>\n",
       "      <td>Tuesday</td>\n",
       "      <td>2018-05-15</td>\n",
       "      <td>01:25</td>\n",
       "      <td>SOUTHERN</td>\n",
       "      <td>ARREST, BOOKED</td>\n",
       "      <td>0 Block of 6TH ST</td>\n",
       "      <td>-122.410042</td>\n",
       "      <td>37.781954</td>\n",
       "      <td>{'latitude': '37.781953653725715', 'human_addr...</td>\n",
       "      <td>18036083503074</td>\n",
       "      <td>Resolved</td>\n",
       "      <td>EarlyMorning</td>\n",
       "      <td>2018</td>\n",
       "      <td>15</td>\n",
       "      <td>5</td>\n",
       "    </tr>\n",
       "    <tr>\n",
       "      <th>2215023</th>\n",
       "      <td>2215023</td>\n",
       "      <td>180362289</td>\n",
       "      <td>VEHICLE THEFT</td>\n",
       "      <td>STOLEN MOTORCYCLE</td>\n",
       "      <td>Tuesday</td>\n",
       "      <td>2018-05-15</td>\n",
       "      <td>10:30</td>\n",
       "      <td>SOUTHERN</td>\n",
       "      <td>NONE</td>\n",
       "      <td>700 Block of TEHAMA ST</td>\n",
       "      <td>-122.411912</td>\n",
       "      <td>37.775207</td>\n",
       "      <td>{'latitude': '37.77520656149669', 'human_addre...</td>\n",
       "      <td>18036228907023</td>\n",
       "      <td>Unresolved</td>\n",
       "      <td>Morning</td>\n",
       "      <td>2018</td>\n",
       "      <td>15</td>\n",
       "      <td>5</td>\n",
       "    </tr>\n",
       "  </tbody>\n",
       "</table>\n",
       "</div>"
      ],
      "text/plain": [
       "           index  IncidntNum        Category  \\\n",
       "2215019  2215016   180360829  OTHER OFFENSES   \n",
       "2215020  2215015   180360794        WARRANTS   \n",
       "2215021  2215022   180360948    NON-CRIMINAL   \n",
       "2215022  2215017   180360835         ROBBERY   \n",
       "2215023  2215023   180362289   VEHICLE THEFT   \n",
       "\n",
       "                                      Descript DayOfWeek       Date   Time  \\\n",
       "2215019  DRIVERS LICENSE, SUSPENDED OR REVOKED   Tuesday 2018-05-15  01:27   \n",
       "2215020        ENROUTE TO OUTSIDE JURISDICTION   Tuesday 2018-05-15  00:19   \n",
       "2215021           AIDED CASE, MENTAL DISTURBED   Tuesday 2018-05-15  04:14   \n",
       "2215022                  ROBBERY, BODILY FORCE   Tuesday 2018-05-15  01:25   \n",
       "2215023                      STOLEN MOTORCYCLE   Tuesday 2018-05-15  10:30   \n",
       "\n",
       "        PdDistrict      Resolution                        Address           X  \\\n",
       "2215019    MISSION            NONE       700 Block of SHOTWELL ST -122.415617   \n",
       "2215020       PARK  ARREST, BOOKED        1500 Block of HAIGHT ST -122.447761   \n",
       "2215021   SOUTHERN            NONE  MARKET ST / SOUTH VAN NESS AV -122.419258   \n",
       "2215022   SOUTHERN  ARREST, BOOKED              0 Block of 6TH ST -122.410042   \n",
       "2215023   SOUTHERN            NONE         700 Block of TEHAMA ST -122.411912   \n",
       "\n",
       "                 Y                                           Location  \\\n",
       "2215019  37.756414  {'latitude': '37.75641376904809', 'human_addre...   \n",
       "2215020  37.769846  {'latitude': '37.76984648754153', 'human_addre...   \n",
       "2215021  37.775146  {'latitude': '37.77514629165388', 'human_addre...   \n",
       "2215022  37.781954  {'latitude': '37.781953653725715', 'human_addr...   \n",
       "2215023  37.775207  {'latitude': '37.77520656149669', 'human_addre...   \n",
       "\n",
       "                   PdId Resolution Status Period of day  Year  Day  Month  \n",
       "2215019  18036082965016        Unresolved  EarlyMorning  2018   15      5  \n",
       "2215020  18036079462050          Resolved           NaN  2018   15      5  \n",
       "2215021  18036094864020        Unresolved  EarlyMorning  2018   15      5  \n",
       "2215022  18036083503074          Resolved  EarlyMorning  2018   15      5  \n",
       "2215023  18036228907023        Unresolved       Morning  2018   15      5  "
      ]
     },
     "execution_count": 222,
     "metadata": {},
     "output_type": "execute_result"
    }
   ],
   "source": [
    "incident_df[\"Year\"] = incident_df[\"Date\"].map(lambda x: x.year)\n",
    "incident_df[\"Day\"] = incident_df[\"Date\"].map(lambda x: x.day)\n",
    "incident_df[\"Month\"] = incident_df[\"Date\"].map(lambda x: x.month)\n",
    "incident_df.tail()"
   ]
  },
  {
   "cell_type": "markdown",
   "metadata": {},
   "source": [
    "## Step-3: Data Sampling"
   ]
  },
  {
   "cell_type": "markdown",
   "metadata": {},
   "source": [
    "## 1. 2018 Year Data"
   ]
  },
  {
   "cell_type": "code",
   "execution_count": 223,
   "metadata": {},
   "outputs": [
    {
     "data": {
      "text/html": [
       "<div>\n",
       "<style scoped>\n",
       "    .dataframe tbody tr th:only-of-type {\n",
       "        vertical-align: middle;\n",
       "    }\n",
       "\n",
       "    .dataframe tbody tr th {\n",
       "        vertical-align: top;\n",
       "    }\n",
       "\n",
       "    .dataframe thead th {\n",
       "        text-align: right;\n",
       "    }\n",
       "</style>\n",
       "<table border=\"1\" class=\"dataframe\">\n",
       "  <thead>\n",
       "    <tr style=\"text-align: right;\">\n",
       "      <th></th>\n",
       "      <th>index</th>\n",
       "      <th>IncidntNum</th>\n",
       "      <th>Category</th>\n",
       "      <th>Descript</th>\n",
       "      <th>DayOfWeek</th>\n",
       "      <th>Date</th>\n",
       "      <th>Time</th>\n",
       "      <th>PdDistrict</th>\n",
       "      <th>Resolution</th>\n",
       "      <th>Address</th>\n",
       "      <th>X</th>\n",
       "      <th>Y</th>\n",
       "      <th>Location</th>\n",
       "      <th>PdId</th>\n",
       "      <th>Resolution Status</th>\n",
       "      <th>Period of day</th>\n",
       "      <th>Year</th>\n",
       "      <th>Day</th>\n",
       "      <th>Month</th>\n",
       "    </tr>\n",
       "  </thead>\n",
       "  <tbody>\n",
       "    <tr>\n",
       "      <th>2168356</th>\n",
       "      <td>2167269</td>\n",
       "      <td>180002009</td>\n",
       "      <td>OTHER OFFENSES</td>\n",
       "      <td>RECKLESS DRIVING</td>\n",
       "      <td>Monday</td>\n",
       "      <td>2018-01-01</td>\n",
       "      <td>17:02</td>\n",
       "      <td>TENDERLOIN</td>\n",
       "      <td>JUVENILE BOOKED</td>\n",
       "      <td>ELLIS ST / JONES ST</td>\n",
       "      <td>-122.412784</td>\n",
       "      <td>37.784866</td>\n",
       "      <td>{'latitude': '37.7848656939526', 'human_addres...</td>\n",
       "      <td>18000200965020</td>\n",
       "      <td>Resolved</td>\n",
       "      <td>Evening</td>\n",
       "      <td>2018</td>\n",
       "      <td>1</td>\n",
       "      <td>1</td>\n",
       "    </tr>\n",
       "    <tr>\n",
       "      <th>2168357</th>\n",
       "      <td>2197016</td>\n",
       "      <td>180303017</td>\n",
       "      <td>LARCENY/THEFT</td>\n",
       "      <td>PETTY THEFT FROM A BUILDING</td>\n",
       "      <td>Monday</td>\n",
       "      <td>2018-01-01</td>\n",
       "      <td>00:01</td>\n",
       "      <td>CENTRAL</td>\n",
       "      <td>NONE</td>\n",
       "      <td>400 Block of POST ST</td>\n",
       "      <td>-122.409256</td>\n",
       "      <td>37.788240</td>\n",
       "      <td>{'latitude': '37.78823989977801', 'human_addre...</td>\n",
       "      <td>18030301706302</td>\n",
       "      <td>Unresolved</td>\n",
       "      <td>NaN</td>\n",
       "      <td>2018</td>\n",
       "      <td>1</td>\n",
       "      <td>1</td>\n",
       "    </tr>\n",
       "    <tr>\n",
       "      <th>2168358</th>\n",
       "      <td>2167246</td>\n",
       "      <td>180001744</td>\n",
       "      <td>LARCENY/THEFT</td>\n",
       "      <td>GRAND THEFT FROM LOCKED AUTO</td>\n",
       "      <td>Monday</td>\n",
       "      <td>2018-01-01</td>\n",
       "      <td>12:39</td>\n",
       "      <td>CENTRAL</td>\n",
       "      <td>NONE</td>\n",
       "      <td>800 Block of FRONT ST</td>\n",
       "      <td>-122.399903</td>\n",
       "      <td>37.799223</td>\n",
       "      <td>{'latitude': '37.79922304542142', 'human_addre...</td>\n",
       "      <td>18000174406244</td>\n",
       "      <td>Unresolved</td>\n",
       "      <td>Morning</td>\n",
       "      <td>2018</td>\n",
       "      <td>1</td>\n",
       "      <td>1</td>\n",
       "    </tr>\n",
       "    <tr>\n",
       "      <th>2168359</th>\n",
       "      <td>2167245</td>\n",
       "      <td>180001738</td>\n",
       "      <td>NON-CRIMINAL</td>\n",
       "      <td>STAY AWAY OR COURT ORDER, NON-DV RELATED</td>\n",
       "      <td>Monday</td>\n",
       "      <td>2018-01-01</td>\n",
       "      <td>16:10</td>\n",
       "      <td>SOUTHERN</td>\n",
       "      <td>ARREST, BOOKED</td>\n",
       "      <td>100 Block of 6TH ST</td>\n",
       "      <td>-122.408369</td>\n",
       "      <td>37.780778</td>\n",
       "      <td>{'latitude': '37.78077842537316', 'human_addre...</td>\n",
       "      <td>18000173871024</td>\n",
       "      <td>Resolved</td>\n",
       "      <td>Evening</td>\n",
       "      <td>2018</td>\n",
       "      <td>1</td>\n",
       "      <td>1</td>\n",
       "    </tr>\n",
       "    <tr>\n",
       "      <th>2168360</th>\n",
       "      <td>2177595</td>\n",
       "      <td>186029102</td>\n",
       "      <td>LARCENY/THEFT</td>\n",
       "      <td>GRAND THEFT FROM LOCKED AUTO</td>\n",
       "      <td>Monday</td>\n",
       "      <td>2018-01-01</td>\n",
       "      <td>20:00</td>\n",
       "      <td>NORTHERN</td>\n",
       "      <td>NONE</td>\n",
       "      <td>POST ST / WEBSTER ST</td>\n",
       "      <td>-122.431370</td>\n",
       "      <td>37.785373</td>\n",
       "      <td>{'latitude': '37.785373043547196', 'human_addr...</td>\n",
       "      <td>18602910206244</td>\n",
       "      <td>Unresolved</td>\n",
       "      <td>Evening</td>\n",
       "      <td>2018</td>\n",
       "      <td>1</td>\n",
       "      <td>1</td>\n",
       "    </tr>\n",
       "  </tbody>\n",
       "</table>\n",
       "</div>"
      ],
      "text/plain": [
       "           index  IncidntNum        Category  \\\n",
       "2168356  2167269   180002009  OTHER OFFENSES   \n",
       "2168357  2197016   180303017   LARCENY/THEFT   \n",
       "2168358  2167246   180001744   LARCENY/THEFT   \n",
       "2168359  2167245   180001738    NON-CRIMINAL   \n",
       "2168360  2177595   186029102   LARCENY/THEFT   \n",
       "\n",
       "                                         Descript DayOfWeek       Date   Time  \\\n",
       "2168356                          RECKLESS DRIVING    Monday 2018-01-01  17:02   \n",
       "2168357               PETTY THEFT FROM A BUILDING    Monday 2018-01-01  00:01   \n",
       "2168358              GRAND THEFT FROM LOCKED AUTO    Monday 2018-01-01  12:39   \n",
       "2168359  STAY AWAY OR COURT ORDER, NON-DV RELATED    Monday 2018-01-01  16:10   \n",
       "2168360              GRAND THEFT FROM LOCKED AUTO    Monday 2018-01-01  20:00   \n",
       "\n",
       "         PdDistrict       Resolution                Address           X  \\\n",
       "2168356  TENDERLOIN  JUVENILE BOOKED    ELLIS ST / JONES ST -122.412784   \n",
       "2168357     CENTRAL             NONE   400 Block of POST ST -122.409256   \n",
       "2168358     CENTRAL             NONE  800 Block of FRONT ST -122.399903   \n",
       "2168359    SOUTHERN   ARREST, BOOKED    100 Block of 6TH ST -122.408369   \n",
       "2168360    NORTHERN             NONE   POST ST / WEBSTER ST -122.431370   \n",
       "\n",
       "                 Y                                           Location  \\\n",
       "2168356  37.784866  {'latitude': '37.7848656939526', 'human_addres...   \n",
       "2168357  37.788240  {'latitude': '37.78823989977801', 'human_addre...   \n",
       "2168358  37.799223  {'latitude': '37.79922304542142', 'human_addre...   \n",
       "2168359  37.780778  {'latitude': '37.78077842537316', 'human_addre...   \n",
       "2168360  37.785373  {'latitude': '37.785373043547196', 'human_addr...   \n",
       "\n",
       "                   PdId Resolution Status Period of day  Year  Day  Month  \n",
       "2168356  18000200965020          Resolved       Evening  2018    1      1  \n",
       "2168357  18030301706302        Unresolved           NaN  2018    1      1  \n",
       "2168358  18000174406244        Unresolved       Morning  2018    1      1  \n",
       "2168359  18000173871024          Resolved       Evening  2018    1      1  \n",
       "2168360  18602910206244        Unresolved       Evening  2018    1      1  "
      ]
     },
     "execution_count": 223,
     "metadata": {},
     "output_type": "execute_result"
    }
   ],
   "source": [
    "crimes_2018_df = incident_df.loc[incident_df['Year'] == 2018]\n",
    "crimes_2018_df.head()"
   ]
  },
  {
   "cell_type": "code",
   "execution_count": 224,
   "metadata": {},
   "outputs": [
    {
     "data": {
      "text/plain": [
       "(46668, 19)"
      ]
     },
     "execution_count": 224,
     "metadata": {},
     "output_type": "execute_result"
    }
   ],
   "source": [
    "crimes_2018_df.shape"
   ]
  },
  {
   "cell_type": "code",
   "execution_count": 225,
   "metadata": {},
   "outputs": [
    {
     "data": {
      "text/plain": [
       "['IncidntNum',\n",
       " 'Category',\n",
       " 'Descript',\n",
       " 'DayOfWeek',\n",
       " 'Date',\n",
       " 'Time',\n",
       " 'PdDistrict',\n",
       " 'Resolution',\n",
       " 'Address',\n",
       " 'X',\n",
       " 'Y',\n",
       " 'Location',\n",
       " 'PdId',\n",
       " 'Resolution Status',\n",
       " 'Period of day',\n",
       " 'Year',\n",
       " 'Day',\n",
       " 'Month']"
      ]
     },
     "execution_count": 225,
     "metadata": {},
     "output_type": "execute_result"
    }
   ],
   "source": [
    "list(crimes_2018_df.columns)[1:]"
   ]
  },
  {
   "cell_type": "code",
   "execution_count": 227,
   "metadata": {},
   "outputs": [],
   "source": [
    "path = os.getcwd()\n",
    "path = path +'\\out'\n",
    "os.mkdir(path)"
   ]
  },
  {
   "cell_type": "code",
   "execution_count": 296,
   "metadata": {},
   "outputs": [],
   "source": [
    "path = os.getcwd()\n",
    "path = path +'\\plots'\n",
    "os.mkdir(path)"
   ]
  },
  {
   "cell_type": "code",
   "execution_count": 228,
   "metadata": {},
   "outputs": [],
   "source": [
    "writer = ExcelWriter('out/crimes_2018_df.xlsx')\n",
    "crimes_2018_df.to_excel(writer,'Sheet1')\n",
    "writer.save()"
   ]
  },
  {
   "cell_type": "code",
   "execution_count": 229,
   "metadata": {},
   "outputs": [],
   "source": [
    "data = np.array(crimes_2018_df[['X', 'Y']])"
   ]
  },
  {
   "cell_type": "markdown",
   "metadata": {},
   "source": [
    "### 1.1 Clustering"
   ]
  },
  {
   "cell_type": "code",
   "execution_count": 230,
   "metadata": {},
   "outputs": [],
   "source": [
    "df = pd.DataFrame(data, columns = ['point_longitude_2018', 'point_latitude_2018'])\n",
    "\n",
    "writer = ExcelWriter('out/points_2018_plot.xlsx')\n",
    "df.to_excel(writer,'Sheet1', columns = ['point_longitude_2018', 'point_latitude_2018'])\n",
    "writer.save()"
   ]
  },
  {
   "cell_type": "code",
   "execution_count": 231,
   "metadata": {},
   "outputs": [],
   "source": [
    "kmeans = KMeans(n_clusters=100, random_state=0).fit(data)"
   ]
  },
  {
   "cell_type": "markdown",
   "metadata": {},
   "source": [
    "### 1.2 Predictions"
   ]
  },
  {
   "cell_type": "code",
   "execution_count": 232,
   "metadata": {},
   "outputs": [],
   "source": [
    "y_means = kmeans.predict(data)"
   ]
  },
  {
   "cell_type": "code",
   "execution_count": 233,
   "metadata": {},
   "outputs": [],
   "source": [
    "centers = kmeans.cluster_centers_"
   ]
  },
  {
   "cell_type": "markdown",
   "metadata": {},
   "source": [
    "### 1.3 Visualization"
   ]
  },
  {
   "cell_type": "code",
   "execution_count": 234,
   "metadata": {},
   "outputs": [
    {
     "data": {
      "image/png": "[encoded data removed]",
      "text/plain": [
       "<Figure size 432x288 with 1 Axes>"
      ]
     },
     "metadata": {},
     "output_type": "display_data"
    }
   ],
   "source": [
    "plt.title('Locations of police cruisers in SF (2018)', weight ='bold')\n",
    "plt.xlabel('Longitude')\n",
    "plt.ylabel('Latitude')\n",
    "plt.scatter(centers[:, 0], centers[:, 1], c= 'black', alpha =0.5)\n",
    "plt.savefig('plots/centroids_2018.png')  "
   ]
  },
  {
   "cell_type": "markdown",
   "metadata": {},
   "source": [
    "### 1.4 Average Time Calculation"
   ]
  },
  {
   "cell_type": "code",
   "execution_count": 235,
   "metadata": {},
   "outputs": [],
   "source": [
    "total_dist = 0\n",
    "for i in range(len(y_means)):\n",
    "    coords_1 = (centers[y_means[i]][1] , centers[y_means[i]][0])\n",
    "    coords_2 = (data[i][1], data[i][0])\n",
    "    individual_dist = great_circle(coords_1, coords_2).miles\n",
    "    total_dist = total_dist + individual_dist"
   ]
  },
  {
   "cell_type": "code",
   "execution_count": 236,
   "metadata": {},
   "outputs": [
    {
     "data": {
      "text/plain": [
       "0.1755536611606551"
      ]
     },
     "execution_count": 236,
     "metadata": {},
     "output_type": "execute_result"
    }
   ],
   "source": [
    "avg_dist = total_dist/len(y_means)\n",
    "avg_dist"
   ]
  },
  {
   "cell_type": "code",
   "execution_count": 237,
   "metadata": {},
   "outputs": [
    {
     "data": {
      "text/plain": [
       "63.199318017835836"
      ]
     },
     "execution_count": 237,
     "metadata": {},
     "output_type": "execute_result"
    }
   ],
   "source": [
    "calculated_time_2018 = avg_dist *3600 / 10\n",
    "calculated_time_2018"
   ]
  },
  {
   "cell_type": "code",
   "execution_count": 238,
   "metadata": {
    "scrolled": true
   },
   "outputs": [
    {
     "data": {
      "text/plain": [
       "(46668,)"
      ]
     },
     "execution_count": 238,
     "metadata": {},
     "output_type": "execute_result"
    }
   ],
   "source": [
    "y_means.shape"
   ]
  },
  {
   "cell_type": "markdown",
   "metadata": {},
   "source": [
    "### 1.5 Saving to File"
   ]
  },
  {
   "cell_type": "code",
   "execution_count": 239,
   "metadata": {},
   "outputs": [],
   "source": [
    "df = pd.DataFrame(centers, columns = ['centroid_longitude_2018', 'centroid_latitude_2018'])"
   ]
  },
  {
   "cell_type": "code",
   "execution_count": 240,
   "metadata": {},
   "outputs": [],
   "source": [
    "writer = ExcelWriter('out/centroids_2018_check.xlsx')\n",
    "df.to_excel(writer,'Sheet1', columns = ['centroid_longitude_2018', 'centroid_latitude_2018'])\n",
    "writer.save()"
   ]
  },
  {
   "cell_type": "markdown",
   "metadata": {},
   "source": [
    "## 2. 2017 Data"
   ]
  },
  {
   "cell_type": "code",
   "execution_count": 241,
   "metadata": {},
   "outputs": [
    {
     "data": {
      "text/html": [
       "<div>\n",
       "<style scoped>\n",
       "    .dataframe tbody tr th:only-of-type {\n",
       "        vertical-align: middle;\n",
       "    }\n",
       "\n",
       "    .dataframe tbody tr th {\n",
       "        vertical-align: top;\n",
       "    }\n",
       "\n",
       "    .dataframe thead th {\n",
       "        text-align: right;\n",
       "    }\n",
       "</style>\n",
       "<table border=\"1\" class=\"dataframe\">\n",
       "  <thead>\n",
       "    <tr style=\"text-align: right;\">\n",
       "      <th></th>\n",
       "      <th>index</th>\n",
       "      <th>IncidntNum</th>\n",
       "      <th>Category</th>\n",
       "      <th>Descript</th>\n",
       "      <th>DayOfWeek</th>\n",
       "      <th>Date</th>\n",
       "      <th>Time</th>\n",
       "      <th>PdDistrict</th>\n",
       "      <th>Resolution</th>\n",
       "      <th>Address</th>\n",
       "      <th>X</th>\n",
       "      <th>Y</th>\n",
       "      <th>Location</th>\n",
       "      <th>PdId</th>\n",
       "      <th>Resolution Status</th>\n",
       "      <th>Period of day</th>\n",
       "      <th>Year</th>\n",
       "      <th>Day</th>\n",
       "      <th>Month</th>\n",
       "    </tr>\n",
       "  </thead>\n",
       "  <tbody>\n",
       "    <tr>\n",
       "      <th>2013583</th>\n",
       "      <td>2011489</td>\n",
       "      <td>176001079</td>\n",
       "      <td>LARCENY/THEFT</td>\n",
       "      <td>PETTY THEFT OF PROPERTY</td>\n",
       "      <td>Sunday</td>\n",
       "      <td>2017-01-01</td>\n",
       "      <td>00:30</td>\n",
       "      <td>TARAVAL</td>\n",
       "      <td>NONE</td>\n",
       "      <td>2200 Block of 46TH AV</td>\n",
       "      <td>-122.504887</td>\n",
       "      <td>37.744552</td>\n",
       "      <td>{'latitude': '37.74455238232007', 'human_addre...</td>\n",
       "      <td>17600107906372</td>\n",
       "      <td>Unresolved</td>\n",
       "      <td>NaN</td>\n",
       "      <td>2017</td>\n",
       "      <td>1</td>\n",
       "      <td>1</td>\n",
       "    </tr>\n",
       "    <tr>\n",
       "      <th>2013584</th>\n",
       "      <td>2011488</td>\n",
       "      <td>176001063</td>\n",
       "      <td>LARCENY/THEFT</td>\n",
       "      <td>GRAND THEFT FROM LOCKED AUTO</td>\n",
       "      <td>Sunday</td>\n",
       "      <td>2017-01-01</td>\n",
       "      <td>14:45</td>\n",
       "      <td>PARK</td>\n",
       "      <td>NONE</td>\n",
       "      <td>MASONIC AV / WALLER ST</td>\n",
       "      <td>-122.445108</td>\n",
       "      <td>37.769284</td>\n",
       "      <td>{'latitude': '37.769283672281794', 'human_addr...</td>\n",
       "      <td>17600106306244</td>\n",
       "      <td>Unresolved</td>\n",
       "      <td>Morning</td>\n",
       "      <td>2017</td>\n",
       "      <td>1</td>\n",
       "      <td>1</td>\n",
       "    </tr>\n",
       "    <tr>\n",
       "      <th>2013585</th>\n",
       "      <td>2011487</td>\n",
       "      <td>176001035</td>\n",
       "      <td>LARCENY/THEFT</td>\n",
       "      <td>GRAND THEFT FROM LOCKED AUTO</td>\n",
       "      <td>Sunday</td>\n",
       "      <td>2017-01-01</td>\n",
       "      <td>10:30</td>\n",
       "      <td>PARK</td>\n",
       "      <td>NONE</td>\n",
       "      <td>MARTIN LUTHER KING JR DR / KEZAR DR</td>\n",
       "      <td>-122.458639</td>\n",
       "      <td>37.767200</td>\n",
       "      <td>{'latitude': '37.767199940345584', 'human_addr...</td>\n",
       "      <td>17600103506244</td>\n",
       "      <td>Unresolved</td>\n",
       "      <td>Morning</td>\n",
       "      <td>2017</td>\n",
       "      <td>1</td>\n",
       "      <td>1</td>\n",
       "    </tr>\n",
       "    <tr>\n",
       "      <th>2013586</th>\n",
       "      <td>2011526</td>\n",
       "      <td>176004443</td>\n",
       "      <td>LARCENY/THEFT</td>\n",
       "      <td>GRAND THEFT FROM LOCKED AUTO</td>\n",
       "      <td>Sunday</td>\n",
       "      <td>2017-01-01</td>\n",
       "      <td>14:30</td>\n",
       "      <td>CENTRAL</td>\n",
       "      <td>NONE</td>\n",
       "      <td>300 Block of POST ST</td>\n",
       "      <td>-122.407591</td>\n",
       "      <td>37.788340</td>\n",
       "      <td>{'latitude': '37.78834011871014', 'human_addre...</td>\n",
       "      <td>17600444306244</td>\n",
       "      <td>Unresolved</td>\n",
       "      <td>Morning</td>\n",
       "      <td>2017</td>\n",
       "      <td>1</td>\n",
       "      <td>1</td>\n",
       "    </tr>\n",
       "    <tr>\n",
       "      <th>2013587</th>\n",
       "      <td>2011491</td>\n",
       "      <td>176001477</td>\n",
       "      <td>LARCENY/THEFT</td>\n",
       "      <td>GRAND THEFT FROM UNLOCKED AUTO</td>\n",
       "      <td>Sunday</td>\n",
       "      <td>2017-01-01</td>\n",
       "      <td>01:30</td>\n",
       "      <td>SOUTHERN</td>\n",
       "      <td>NONE</td>\n",
       "      <td>3RD ST / MISSION ST</td>\n",
       "      <td>-122.402028</td>\n",
       "      <td>37.786248</td>\n",
       "      <td>{'latitude': '37.78624834566293', 'human_addre...</td>\n",
       "      <td>17600147706224</td>\n",
       "      <td>Unresolved</td>\n",
       "      <td>EarlyMorning</td>\n",
       "      <td>2017</td>\n",
       "      <td>1</td>\n",
       "      <td>1</td>\n",
       "    </tr>\n",
       "  </tbody>\n",
       "</table>\n",
       "</div>"
      ],
      "text/plain": [
       "           index  IncidntNum       Category                        Descript  \\\n",
       "2013583  2011489   176001079  LARCENY/THEFT         PETTY THEFT OF PROPERTY   \n",
       "2013584  2011488   176001063  LARCENY/THEFT    GRAND THEFT FROM LOCKED AUTO   \n",
       "2013585  2011487   176001035  LARCENY/THEFT    GRAND THEFT FROM LOCKED AUTO   \n",
       "2013586  2011526   176004443  LARCENY/THEFT    GRAND THEFT FROM LOCKED AUTO   \n",
       "2013587  2011491   176001477  LARCENY/THEFT  GRAND THEFT FROM UNLOCKED AUTO   \n",
       "\n",
       "        DayOfWeek       Date   Time PdDistrict Resolution  \\\n",
       "2013583    Sunday 2017-01-01  00:30    TARAVAL       NONE   \n",
       "2013584    Sunday 2017-01-01  14:45       PARK       NONE   \n",
       "2013585    Sunday 2017-01-01  10:30       PARK       NONE   \n",
       "2013586    Sunday 2017-01-01  14:30    CENTRAL       NONE   \n",
       "2013587    Sunday 2017-01-01  01:30   SOUTHERN       NONE   \n",
       "\n",
       "                                     Address           X          Y  \\\n",
       "2013583                2200 Block of 46TH AV -122.504887  37.744552   \n",
       "2013584               MASONIC AV / WALLER ST -122.445108  37.769284   \n",
       "2013585  MARTIN LUTHER KING JR DR / KEZAR DR -122.458639  37.767200   \n",
       "2013586                 300 Block of POST ST -122.407591  37.788340   \n",
       "2013587                  3RD ST / MISSION ST -122.402028  37.786248   \n",
       "\n",
       "                                                  Location            PdId  \\\n",
       "2013583  {'latitude': '37.74455238232007', 'human_addre...  17600107906372   \n",
       "2013584  {'latitude': '37.769283672281794', 'human_addr...  17600106306244   \n",
       "2013585  {'latitude': '37.767199940345584', 'human_addr...  17600103506244   \n",
       "2013586  {'latitude': '37.78834011871014', 'human_addre...  17600444306244   \n",
       "2013587  {'latitude': '37.78624834566293', 'human_addre...  17600147706224   \n",
       "\n",
       "        Resolution Status Period of day  Year  Day  Month  \n",
       "2013583        Unresolved           NaN  2017    1      1  \n",
       "2013584        Unresolved       Morning  2017    1      1  \n",
       "2013585        Unresolved       Morning  2017    1      1  \n",
       "2013586        Unresolved       Morning  2017    1      1  \n",
       "2013587        Unresolved  EarlyMorning  2017    1      1  "
      ]
     },
     "execution_count": 241,
     "metadata": {},
     "output_type": "execute_result"
    }
   ],
   "source": [
    "crimes_2017_df = incident_df.loc[incident_df['Year'] == 2017]\n",
    "crimes_2017_df.head()"
   ]
  },
  {
   "cell_type": "code",
   "execution_count": 242,
   "metadata": {},
   "outputs": [
    {
     "data": {
      "text/plain": [
       "(154773, 19)"
      ]
     },
     "execution_count": 242,
     "metadata": {},
     "output_type": "execute_result"
    }
   ],
   "source": [
    "crimes_2017_df.shape"
   ]
  },
  {
   "cell_type": "code",
   "execution_count": 243,
   "metadata": {},
   "outputs": [],
   "source": [
    "data = np.array(crimes_2017_df[['X', 'Y']])"
   ]
  },
  {
   "cell_type": "markdown",
   "metadata": {},
   "source": [
    "### 2.1 Clustering"
   ]
  },
  {
   "cell_type": "code",
   "execution_count": 244,
   "metadata": {},
   "outputs": [],
   "source": [
    "df = pd.DataFrame(data, columns = ['point_longitude_2017', 'point_latitude_2017'])\n",
    "\n",
    "writer = ExcelWriter('out/points_2017_plot.xlsx')\n",
    "df.to_excel(writer,'Sheet1', columns = ['point_longitude_2017', 'point_latitude_2017'])\n",
    "writer.save()"
   ]
  },
  {
   "cell_type": "code",
   "execution_count": 245,
   "metadata": {},
   "outputs": [],
   "source": [
    "kmeans = KMeans(n_clusters=100, random_state=0).fit(data)"
   ]
  },
  {
   "cell_type": "markdown",
   "metadata": {},
   "source": [
    "### 2.2 Predictions"
   ]
  },
  {
   "cell_type": "code",
   "execution_count": 246,
   "metadata": {},
   "outputs": [],
   "source": [
    "y_means = kmeans.predict(data)"
   ]
  },
  {
   "cell_type": "code",
   "execution_count": 247,
   "metadata": {},
   "outputs": [],
   "source": [
    "centers = kmeans.cluster_centers_"
   ]
  },
  {
   "cell_type": "code",
   "execution_count": 248,
   "metadata": {},
   "outputs": [
    {
     "data": {
      "text/plain": [
       "((154773, 2), (154773,))"
      ]
     },
     "execution_count": 248,
     "metadata": {},
     "output_type": "execute_result"
    }
   ],
   "source": [
    "data.shape, y_means.shape"
   ]
  },
  {
   "cell_type": "markdown",
   "metadata": {},
   "source": [
    "### 2.3 Visualization"
   ]
  },
  {
   "cell_type": "code",
   "execution_count": 249,
   "metadata": {},
   "outputs": [
    {
     "data": {
      "image/png": "[encoded data removed]",
      "text/plain": [
       "<Figure size 432x288 with 1 Axes>"
      ]
     },
     "metadata": {},
     "output_type": "display_data"
    }
   ],
   "source": [
    "plt.title('Locations of police cruisers in SF (2017)', weight ='bold')\n",
    "plt.xlabel('Longitude')\n",
    "plt.ylabel('Latitude')\n",
    "plt.scatter(centers[:, 0], centers[:, 1], c= 'black', alpha =0.5)\n",
    "plt.savefig('centroids_2017.png')  "
   ]
  },
  {
   "cell_type": "markdown",
   "metadata": {},
   "source": [
    "### 2.4 Average Time Calculation"
   ]
  },
  {
   "cell_type": "code",
   "execution_count": 250,
   "metadata": {},
   "outputs": [],
   "source": [
    "total_dist = 0\n",
    "for i in range(len(y_means)):\n",
    "    coords_1 = (centers[y_means[i]][1] , centers[y_means[i]][0])\n",
    "    coords_2 = (data[i][1], data[i][0])\n",
    "    individual_dist = great_circle(coords_1, coords_2).miles\n",
    "    total_dist = total_dist + individual_dist"
   ]
  },
  {
   "cell_type": "code",
   "execution_count": 251,
   "metadata": {},
   "outputs": [
    {
     "data": {
      "text/plain": [
       "0.17725774030611696"
      ]
     },
     "execution_count": 251,
     "metadata": {},
     "output_type": "execute_result"
    }
   ],
   "source": [
    "avg_dist = total_dist/len(y_means)\n",
    "avg_dist"
   ]
  },
  {
   "cell_type": "code",
   "execution_count": 252,
   "metadata": {},
   "outputs": [
    {
     "data": {
      "text/plain": [
       "63.8127865102021"
      ]
     },
     "execution_count": 252,
     "metadata": {},
     "output_type": "execute_result"
    }
   ],
   "source": [
    "calculated_time_2017 = avg_dist *3600 / 10\n",
    "calculated_time_2017"
   ]
  },
  {
   "cell_type": "code",
   "execution_count": 253,
   "metadata": {
    "scrolled": true
   },
   "outputs": [
    {
     "data": {
      "text/plain": [
       "(154773,)"
      ]
     },
     "execution_count": 253,
     "metadata": {},
     "output_type": "execute_result"
    }
   ],
   "source": [
    "y_means.shape"
   ]
  },
  {
   "cell_type": "markdown",
   "metadata": {},
   "source": [
    "### 2.5 Saving to File"
   ]
  },
  {
   "cell_type": "code",
   "execution_count": 254,
   "metadata": {},
   "outputs": [],
   "source": [
    "df = pd.DataFrame(centers, columns = ['centroid_longitude_2017', 'centroid_latitude_2017'])"
   ]
  },
  {
   "cell_type": "code",
   "execution_count": 255,
   "metadata": {},
   "outputs": [],
   "source": [
    "writer = ExcelWriter('out/centroids_2017_check.xlsx')\n",
    "df.to_excel(writer,'Sheet1', columns = ['centroid_longitude_2017', 'centroid_latitude_2017'])\n",
    "writer.save()"
   ]
  },
  {
   "cell_type": "markdown",
   "metadata": {},
   "source": [
    "## 3. 2016 Data"
   ]
  },
  {
   "cell_type": "code",
   "execution_count": 256,
   "metadata": {},
   "outputs": [
    {
     "data": {
      "text/html": [
       "<div>\n",
       "<style scoped>\n",
       "    .dataframe tbody tr th:only-of-type {\n",
       "        vertical-align: middle;\n",
       "    }\n",
       "\n",
       "    .dataframe tbody tr th {\n",
       "        vertical-align: top;\n",
       "    }\n",
       "\n",
       "    .dataframe thead th {\n",
       "        text-align: right;\n",
       "    }\n",
       "</style>\n",
       "<table border=\"1\" class=\"dataframe\">\n",
       "  <thead>\n",
       "    <tr style=\"text-align: right;\">\n",
       "      <th></th>\n",
       "      <th>index</th>\n",
       "      <th>IncidntNum</th>\n",
       "      <th>Category</th>\n",
       "      <th>Descript</th>\n",
       "      <th>DayOfWeek</th>\n",
       "      <th>Date</th>\n",
       "      <th>Time</th>\n",
       "      <th>PdDistrict</th>\n",
       "      <th>Resolution</th>\n",
       "      <th>Address</th>\n",
       "      <th>X</th>\n",
       "      <th>Y</th>\n",
       "      <th>Location</th>\n",
       "      <th>PdId</th>\n",
       "      <th>Resolution Status</th>\n",
       "      <th>Period of day</th>\n",
       "      <th>Year</th>\n",
       "      <th>Day</th>\n",
       "      <th>Month</th>\n",
       "    </tr>\n",
       "  </thead>\n",
       "  <tbody>\n",
       "    <tr>\n",
       "      <th>1862700</th>\n",
       "      <td>1860397</td>\n",
       "      <td>160004542</td>\n",
       "      <td>LARCENY/THEFT</td>\n",
       "      <td>GRAND THEFT FROM LOCKED AUTO</td>\n",
       "      <td>Friday</td>\n",
       "      <td>2016-01-01</td>\n",
       "      <td>16:50</td>\n",
       "      <td>RICHMOND</td>\n",
       "      <td>NONE</td>\n",
       "      <td>2600 Block of ELCAMINODELMAR ST</td>\n",
       "      <td>-122.509696</td>\n",
       "      <td>37.780213</td>\n",
       "      <td>{'latitude': '37.78021342920584', 'human_addre...</td>\n",
       "      <td>16000454206244</td>\n",
       "      <td>Unresolved</td>\n",
       "      <td>Evening</td>\n",
       "      <td>2016</td>\n",
       "      <td>1</td>\n",
       "      <td>1</td>\n",
       "    </tr>\n",
       "    <tr>\n",
       "      <th>1862701</th>\n",
       "      <td>1860374</td>\n",
       "      <td>160000835</td>\n",
       "      <td>ASSAULT</td>\n",
       "      <td>AGGRAVATED ASSAULT WITH BODILY FORCE</td>\n",
       "      <td>Friday</td>\n",
       "      <td>2016-01-01</td>\n",
       "      <td>04:20</td>\n",
       "      <td>CENTRAL</td>\n",
       "      <td>ARREST, BOOKED</td>\n",
       "      <td>200 Block of POST ST</td>\n",
       "      <td>-122.406022</td>\n",
       "      <td>37.788649</td>\n",
       "      <td>{'latitude': '37.788649124529414', 'human_addr...</td>\n",
       "      <td>16000083504014</td>\n",
       "      <td>Resolved</td>\n",
       "      <td>EarlyMorning</td>\n",
       "      <td>2016</td>\n",
       "      <td>1</td>\n",
       "      <td>1</td>\n",
       "    </tr>\n",
       "    <tr>\n",
       "      <th>1862702</th>\n",
       "      <td>1860377</td>\n",
       "      <td>160000857</td>\n",
       "      <td>NON-CRIMINAL</td>\n",
       "      <td>DEATH REPORT, CAUSE UNKNOWN</td>\n",
       "      <td>Friday</td>\n",
       "      <td>2016-01-01</td>\n",
       "      <td>05:05</td>\n",
       "      <td>NORTHERN</td>\n",
       "      <td>NONE</td>\n",
       "      <td>900 Block of GEARY ST</td>\n",
       "      <td>-122.418940</td>\n",
       "      <td>37.786049</td>\n",
       "      <td>{'latitude': '37.78604922300279', 'human_addre...</td>\n",
       "      <td>16000085761030</td>\n",
       "      <td>Unresolved</td>\n",
       "      <td>EarlyMorning</td>\n",
       "      <td>2016</td>\n",
       "      <td>1</td>\n",
       "      <td>1</td>\n",
       "    </tr>\n",
       "    <tr>\n",
       "      <th>1862703</th>\n",
       "      <td>1860395</td>\n",
       "      <td>160004263</td>\n",
       "      <td>LARCENY/THEFT</td>\n",
       "      <td>GRAND THEFT PICKPOCKET</td>\n",
       "      <td>Friday</td>\n",
       "      <td>2016-01-01</td>\n",
       "      <td>02:30</td>\n",
       "      <td>CENTRAL</td>\n",
       "      <td>NONE</td>\n",
       "      <td>400 Block of GEARY ST</td>\n",
       "      <td>-122.410722</td>\n",
       "      <td>37.787097</td>\n",
       "      <td>{'latitude': '37.78709664956634', 'human_addre...</td>\n",
       "      <td>16000426306113</td>\n",
       "      <td>Unresolved</td>\n",
       "      <td>EarlyMorning</td>\n",
       "      <td>2016</td>\n",
       "      <td>1</td>\n",
       "      <td>1</td>\n",
       "    </tr>\n",
       "    <tr>\n",
       "      <th>1862704</th>\n",
       "      <td>1860376</td>\n",
       "      <td>160000857</td>\n",
       "      <td>VANDALISM</td>\n",
       "      <td>MALICIOUS MISCHIEF, VANDALISM</td>\n",
       "      <td>Friday</td>\n",
       "      <td>2016-01-01</td>\n",
       "      <td>05:05</td>\n",
       "      <td>NORTHERN</td>\n",
       "      <td>NONE</td>\n",
       "      <td>900 Block of GEARY ST</td>\n",
       "      <td>-122.418940</td>\n",
       "      <td>37.786049</td>\n",
       "      <td>{'latitude': '37.78604922300279', 'human_addre...</td>\n",
       "      <td>16000085728150</td>\n",
       "      <td>Unresolved</td>\n",
       "      <td>EarlyMorning</td>\n",
       "      <td>2016</td>\n",
       "      <td>1</td>\n",
       "      <td>1</td>\n",
       "    </tr>\n",
       "  </tbody>\n",
       "</table>\n",
       "</div>"
      ],
      "text/plain": [
       "           index  IncidntNum       Category  \\\n",
       "1862700  1860397   160004542  LARCENY/THEFT   \n",
       "1862701  1860374   160000835        ASSAULT   \n",
       "1862702  1860377   160000857   NON-CRIMINAL   \n",
       "1862703  1860395   160004263  LARCENY/THEFT   \n",
       "1862704  1860376   160000857      VANDALISM   \n",
       "\n",
       "                                     Descript DayOfWeek       Date   Time  \\\n",
       "1862700          GRAND THEFT FROM LOCKED AUTO    Friday 2016-01-01  16:50   \n",
       "1862701  AGGRAVATED ASSAULT WITH BODILY FORCE    Friday 2016-01-01  04:20   \n",
       "1862702           DEATH REPORT, CAUSE UNKNOWN    Friday 2016-01-01  05:05   \n",
       "1862703                GRAND THEFT PICKPOCKET    Friday 2016-01-01  02:30   \n",
       "1862704         MALICIOUS MISCHIEF, VANDALISM    Friday 2016-01-01  05:05   \n",
       "\n",
       "        PdDistrict      Resolution                          Address  \\\n",
       "1862700   RICHMOND            NONE  2600 Block of ELCAMINODELMAR ST   \n",
       "1862701    CENTRAL  ARREST, BOOKED             200 Block of POST ST   \n",
       "1862702   NORTHERN            NONE            900 Block of GEARY ST   \n",
       "1862703    CENTRAL            NONE            400 Block of GEARY ST   \n",
       "1862704   NORTHERN            NONE            900 Block of GEARY ST   \n",
       "\n",
       "                  X          Y  \\\n",
       "1862700 -122.509696  37.780213   \n",
       "1862701 -122.406022  37.788649   \n",
       "1862702 -122.418940  37.786049   \n",
       "1862703 -122.410722  37.787097   \n",
       "1862704 -122.418940  37.786049   \n",
       "\n",
       "                                                  Location            PdId  \\\n",
       "1862700  {'latitude': '37.78021342920584', 'human_addre...  16000454206244   \n",
       "1862701  {'latitude': '37.788649124529414', 'human_addr...  16000083504014   \n",
       "1862702  {'latitude': '37.78604922300279', 'human_addre...  16000085761030   \n",
       "1862703  {'latitude': '37.78709664956634', 'human_addre...  16000426306113   \n",
       "1862704  {'latitude': '37.78604922300279', 'human_addre...  16000085728150   \n",
       "\n",
       "        Resolution Status Period of day  Year  Day  Month  \n",
       "1862700        Unresolved       Evening  2016    1      1  \n",
       "1862701          Resolved  EarlyMorning  2016    1      1  \n",
       "1862702        Unresolved  EarlyMorning  2016    1      1  \n",
       "1862703        Unresolved  EarlyMorning  2016    1      1  \n",
       "1862704        Unresolved  EarlyMorning  2016    1      1  "
      ]
     },
     "execution_count": 256,
     "metadata": {},
     "output_type": "execute_result"
    }
   ],
   "source": [
    "crimes_2016_df = incident_df.loc[incident_df['Year'] == 2016]\n",
    "crimes_2016_df.head()"
   ]
  },
  {
   "cell_type": "code",
   "execution_count": 257,
   "metadata": {},
   "outputs": [
    {
     "data": {
      "text/plain": [
       "(150883, 19)"
      ]
     },
     "execution_count": 257,
     "metadata": {},
     "output_type": "execute_result"
    }
   ],
   "source": [
    "crimes_2016_df.shape"
   ]
  },
  {
   "cell_type": "code",
   "execution_count": 258,
   "metadata": {},
   "outputs": [],
   "source": [
    "data = np.array(crimes_2016_df[['X', 'Y']])"
   ]
  },
  {
   "cell_type": "markdown",
   "metadata": {},
   "source": [
    "### 3.1 Clustering"
   ]
  },
  {
   "cell_type": "code",
   "execution_count": 259,
   "metadata": {},
   "outputs": [],
   "source": [
    "df = pd.DataFrame(data, columns = ['point_longitude_2016', 'point_latitude_2016'])\n",
    "\n",
    "writer = ExcelWriter('out/points_2016_plot.xlsx')\n",
    "df.to_excel(writer,'Sheet1', columns = ['point_longitude_2016', 'point_latitude_2016'])\n",
    "writer.save()"
   ]
  },
  {
   "cell_type": "code",
   "execution_count": 260,
   "metadata": {},
   "outputs": [],
   "source": [
    "kmeans = KMeans(n_clusters=100, random_state=0).fit(data)"
   ]
  },
  {
   "cell_type": "markdown",
   "metadata": {},
   "source": [
    "### 3.2 Predictions"
   ]
  },
  {
   "cell_type": "code",
   "execution_count": 261,
   "metadata": {},
   "outputs": [],
   "source": [
    "y_means = kmeans.predict(data)"
   ]
  },
  {
   "cell_type": "code",
   "execution_count": 262,
   "metadata": {},
   "outputs": [],
   "source": [
    "centers = kmeans.cluster_centers_"
   ]
  },
  {
   "cell_type": "code",
   "execution_count": 263,
   "metadata": {},
   "outputs": [
    {
     "data": {
      "text/plain": [
       "((150883, 2), (150883,))"
      ]
     },
     "execution_count": 263,
     "metadata": {},
     "output_type": "execute_result"
    }
   ],
   "source": [
    "data.shape, y_means.shape"
   ]
  },
  {
   "cell_type": "markdown",
   "metadata": {},
   "source": [
    "### 3.3 Visualization"
   ]
  },
  {
   "cell_type": "code",
   "execution_count": 264,
   "metadata": {},
   "outputs": [
    {
     "data": {
      "image/png": "[encoded data removed]",
      "text/plain": [
       "<Figure size 432x288 with 1 Axes>"
      ]
     },
     "metadata": {},
     "output_type": "display_data"
    }
   ],
   "source": [
    "plt.title('Locations of police cruisers in SF (2016)', weight ='bold')\n",
    "plt.xlabel('Longitude')\n",
    "plt.ylabel('Latitude')\n",
    "plt.scatter(centers[:, 0], centers[:, 1], c= 'black', alpha =0.5)\n",
    "plt.savefig('plots/centroids_2016.png')  "
   ]
  },
  {
   "cell_type": "markdown",
   "metadata": {},
   "source": [
    "### 3.4 Average Time Calculation"
   ]
  },
  {
   "cell_type": "code",
   "execution_count": 265,
   "metadata": {},
   "outputs": [],
   "source": [
    "total_dist = 0\n",
    "for i in range(len(y_means)):\n",
    "    coords_1 = (centers[y_means[i]][1] , centers[y_means[i]][0])\n",
    "    coords_2 = (data[i][1], data[i][0])\n",
    "    individual_dist = great_circle(coords_1, coords_2).miles\n",
    "    total_dist = total_dist + individual_dist"
   ]
  },
  {
   "cell_type": "code",
   "execution_count": 266,
   "metadata": {},
   "outputs": [
    {
     "data": {
      "text/plain": [
       "0.17976350746859804"
      ]
     },
     "execution_count": 266,
     "metadata": {},
     "output_type": "execute_result"
    }
   ],
   "source": [
    "avg_dist = total_dist/len(y_means)\n",
    "avg_dist"
   ]
  },
  {
   "cell_type": "code",
   "execution_count": 267,
   "metadata": {},
   "outputs": [
    {
     "data": {
      "text/plain": [
       "64.71486268869529"
      ]
     },
     "execution_count": 267,
     "metadata": {},
     "output_type": "execute_result"
    }
   ],
   "source": [
    "calculated_time_2016 = avg_dist *3600 / 10\n",
    "calculated_time_2016"
   ]
  },
  {
   "cell_type": "code",
   "execution_count": 268,
   "metadata": {},
   "outputs": [
    {
     "data": {
      "text/plain": [
       "(150883,)"
      ]
     },
     "execution_count": 268,
     "metadata": {},
     "output_type": "execute_result"
    }
   ],
   "source": [
    "y_means.shape"
   ]
  },
  {
   "cell_type": "markdown",
   "metadata": {},
   "source": [
    "### 3.5 Saving to File"
   ]
  },
  {
   "cell_type": "code",
   "execution_count": 269,
   "metadata": {},
   "outputs": [],
   "source": [
    "df = pd.DataFrame(centers, columns = ['centroid_longitude_2016', 'centroid_latitude_2016'])"
   ]
  },
  {
   "cell_type": "code",
   "execution_count": 270,
   "metadata": {},
   "outputs": [],
   "source": [
    "writer = ExcelWriter('out/centroids_2016_check.xlsx')\n",
    "df.to_excel(writer,'Sheet1', columns = ['centroid_longitude_2016', 'centroid_latitude_2016'])\n",
    "writer.save()"
   ]
  },
  {
   "cell_type": "markdown",
   "metadata": {},
   "source": [
    "## 4. 2015 Data"
   ]
  },
  {
   "cell_type": "code",
   "execution_count": 271,
   "metadata": {},
   "outputs": [
    {
     "data": {
      "text/html": [
       "<div>\n",
       "<style scoped>\n",
       "    .dataframe tbody tr th:only-of-type {\n",
       "        vertical-align: middle;\n",
       "    }\n",
       "\n",
       "    .dataframe tbody tr th {\n",
       "        vertical-align: top;\n",
       "    }\n",
       "\n",
       "    .dataframe thead th {\n",
       "        text-align: right;\n",
       "    }\n",
       "</style>\n",
       "<table border=\"1\" class=\"dataframe\">\n",
       "  <thead>\n",
       "    <tr style=\"text-align: right;\">\n",
       "      <th></th>\n",
       "      <th>index</th>\n",
       "      <th>IncidntNum</th>\n",
       "      <th>Category</th>\n",
       "      <th>Descript</th>\n",
       "      <th>DayOfWeek</th>\n",
       "      <th>Date</th>\n",
       "      <th>Time</th>\n",
       "      <th>PdDistrict</th>\n",
       "      <th>Resolution</th>\n",
       "      <th>Address</th>\n",
       "      <th>X</th>\n",
       "      <th>Y</th>\n",
       "      <th>Location</th>\n",
       "      <th>PdId</th>\n",
       "      <th>Resolution Status</th>\n",
       "      <th>Period of day</th>\n",
       "      <th>Year</th>\n",
       "      <th>Day</th>\n",
       "      <th>Month</th>\n",
       "    </tr>\n",
       "  </thead>\n",
       "  <tbody>\n",
       "    <tr>\n",
       "      <th>1706174</th>\n",
       "      <td>1355519</td>\n",
       "      <td>150001213</td>\n",
       "      <td>ASSAULT</td>\n",
       "      <td>BATTERY, FORMER SPOUSE OR DATING RELATIONSHIP</td>\n",
       "      <td>Thursday</td>\n",
       "      <td>2015-01-01</td>\n",
       "      <td>10:40</td>\n",
       "      <td>TARAVAL</td>\n",
       "      <td>NONE</td>\n",
       "      <td>300 Block of FAXON AV</td>\n",
       "      <td>-122.460291</td>\n",
       "      <td>37.720945</td>\n",
       "      <td>{'latitude': '37.7209451195999', 'human_addres...</td>\n",
       "      <td>15000121304138</td>\n",
       "      <td>Unresolved</td>\n",
       "      <td>Morning</td>\n",
       "      <td>2015</td>\n",
       "      <td>1</td>\n",
       "      <td>1</td>\n",
       "    </tr>\n",
       "    <tr>\n",
       "      <th>1706175</th>\n",
       "      <td>746492</td>\n",
       "      <td>150001172</td>\n",
       "      <td>OTHER OFFENSES</td>\n",
       "      <td>LICENSE PLATE, STOLEN</td>\n",
       "      <td>Thursday</td>\n",
       "      <td>2015-01-01</td>\n",
       "      <td>09:28</td>\n",
       "      <td>NORTHERN</td>\n",
       "      <td>ARREST, BOOKED</td>\n",
       "      <td>SUTTER ST / POLK ST</td>\n",
       "      <td>-122.420120</td>\n",
       "      <td>37.787757</td>\n",
       "      <td>{'latitude': '37.7877570602411', 'human_addres...</td>\n",
       "      <td>15000117271013</td>\n",
       "      <td>Resolved</td>\n",
       "      <td>Morning</td>\n",
       "      <td>2015</td>\n",
       "      <td>1</td>\n",
       "      <td>1</td>\n",
       "    </tr>\n",
       "    <tr>\n",
       "      <th>1706176</th>\n",
       "      <td>756550</td>\n",
       "      <td>156020168</td>\n",
       "      <td>LARCENY/THEFT</td>\n",
       "      <td>GRAND THEFT FROM UNLOCKED AUTO</td>\n",
       "      <td>Thursday</td>\n",
       "      <td>2015-01-01</td>\n",
       "      <td>00:01</td>\n",
       "      <td>PARK</td>\n",
       "      <td>NONE</td>\n",
       "      <td>0 Block of LEVANT ST</td>\n",
       "      <td>-122.442129</td>\n",
       "      <td>37.764256</td>\n",
       "      <td>{'latitude': '37.7642555194629', 'human_addres...</td>\n",
       "      <td>15602016806224</td>\n",
       "      <td>Unresolved</td>\n",
       "      <td>NaN</td>\n",
       "      <td>2015</td>\n",
       "      <td>1</td>\n",
       "      <td>1</td>\n",
       "    </tr>\n",
       "    <tr>\n",
       "      <th>1706177</th>\n",
       "      <td>970664</td>\n",
       "      <td>150001611</td>\n",
       "      <td>NON-CRIMINAL</td>\n",
       "      <td>AIDED CASE, MENTAL DISTURBED</td>\n",
       "      <td>Thursday</td>\n",
       "      <td>2015-01-01</td>\n",
       "      <td>13:19</td>\n",
       "      <td>SOUTHERN</td>\n",
       "      <td>NONE</td>\n",
       "      <td>4TH ST / KING ST</td>\n",
       "      <td>-122.394103</td>\n",
       "      <td>37.776383</td>\n",
       "      <td>{'latitude': '37.7763827130285', 'human_addres...</td>\n",
       "      <td>15000161164020</td>\n",
       "      <td>Unresolved</td>\n",
       "      <td>Morning</td>\n",
       "      <td>2015</td>\n",
       "      <td>1</td>\n",
       "      <td>1</td>\n",
       "    </tr>\n",
       "    <tr>\n",
       "      <th>1706178</th>\n",
       "      <td>1769781</td>\n",
       "      <td>150499931</td>\n",
       "      <td>ASSAULT</td>\n",
       "      <td>STALKING</td>\n",
       "      <td>Thursday</td>\n",
       "      <td>2015-01-01</td>\n",
       "      <td>00:01</td>\n",
       "      <td>NORTHERN</td>\n",
       "      <td>NONE</td>\n",
       "      <td>700 Block of FILLMORE ST</td>\n",
       "      <td>-122.431225</td>\n",
       "      <td>37.776315</td>\n",
       "      <td>{'latitude': '37.7763145302112', 'human_addres...</td>\n",
       "      <td>15049993115201</td>\n",
       "      <td>Unresolved</td>\n",
       "      <td>NaN</td>\n",
       "      <td>2015</td>\n",
       "      <td>1</td>\n",
       "      <td>1</td>\n",
       "    </tr>\n",
       "  </tbody>\n",
       "</table>\n",
       "</div>"
      ],
      "text/plain": [
       "           index  IncidntNum        Category  \\\n",
       "1706174  1355519   150001213         ASSAULT   \n",
       "1706175   746492   150001172  OTHER OFFENSES   \n",
       "1706176   756550   156020168   LARCENY/THEFT   \n",
       "1706177   970664   150001611    NON-CRIMINAL   \n",
       "1706178  1769781   150499931         ASSAULT   \n",
       "\n",
       "                                              Descript DayOfWeek       Date  \\\n",
       "1706174  BATTERY, FORMER SPOUSE OR DATING RELATIONSHIP  Thursday 2015-01-01   \n",
       "1706175                          LICENSE PLATE, STOLEN  Thursday 2015-01-01   \n",
       "1706176                 GRAND THEFT FROM UNLOCKED AUTO  Thursday 2015-01-01   \n",
       "1706177                   AIDED CASE, MENTAL DISTURBED  Thursday 2015-01-01   \n",
       "1706178                                       STALKING  Thursday 2015-01-01   \n",
       "\n",
       "          Time PdDistrict      Resolution                   Address  \\\n",
       "1706174  10:40    TARAVAL            NONE     300 Block of FAXON AV   \n",
       "1706175  09:28   NORTHERN  ARREST, BOOKED       SUTTER ST / POLK ST   \n",
       "1706176  00:01       PARK            NONE      0 Block of LEVANT ST   \n",
       "1706177  13:19   SOUTHERN            NONE          4TH ST / KING ST   \n",
       "1706178  00:01   NORTHERN            NONE  700 Block of FILLMORE ST   \n",
       "\n",
       "                  X          Y  \\\n",
       "1706174 -122.460291  37.720945   \n",
       "1706175 -122.420120  37.787757   \n",
       "1706176 -122.442129  37.764256   \n",
       "1706177 -122.394103  37.776383   \n",
       "1706178 -122.431225  37.776315   \n",
       "\n",
       "                                                  Location            PdId  \\\n",
       "1706174  {'latitude': '37.7209451195999', 'human_addres...  15000121304138   \n",
       "1706175  {'latitude': '37.7877570602411', 'human_addres...  15000117271013   \n",
       "1706176  {'latitude': '37.7642555194629', 'human_addres...  15602016806224   \n",
       "1706177  {'latitude': '37.7763827130285', 'human_addres...  15000161164020   \n",
       "1706178  {'latitude': '37.7763145302112', 'human_addres...  15049993115201   \n",
       "\n",
       "        Resolution Status Period of day  Year  Day  Month  \n",
       "1706174        Unresolved       Morning  2015    1      1  \n",
       "1706175          Resolved       Morning  2015    1      1  \n",
       "1706176        Unresolved           NaN  2015    1      1  \n",
       "1706177        Unresolved       Morning  2015    1      1  \n",
       "1706178        Unresolved           NaN  2015    1      1  "
      ]
     },
     "execution_count": 271,
     "metadata": {},
     "output_type": "execute_result"
    }
   ],
   "source": [
    "crimes_2015_df = incident_df.loc[incident_df['Year'] == 2015]\n",
    "crimes_2015_df.head()"
   ]
  },
  {
   "cell_type": "code",
   "execution_count": 272,
   "metadata": {},
   "outputs": [
    {
     "data": {
      "text/plain": [
       "(156526, 19)"
      ]
     },
     "execution_count": 272,
     "metadata": {},
     "output_type": "execute_result"
    }
   ],
   "source": [
    "crimes_2015_df.shape"
   ]
  },
  {
   "cell_type": "code",
   "execution_count": 273,
   "metadata": {},
   "outputs": [],
   "source": [
    "data = np.array(crimes_2015_df[['X', 'Y']])"
   ]
  },
  {
   "cell_type": "markdown",
   "metadata": {},
   "source": [
    "### 4.1 Clustering"
   ]
  },
  {
   "cell_type": "code",
   "execution_count": 274,
   "metadata": {},
   "outputs": [],
   "source": [
    "df = pd.DataFrame(data, columns = ['point_longitude_2015', 'point_latitude_2015'])\n",
    "\n",
    "writer = ExcelWriter('out/points_2015_plot.xlsx')\n",
    "df.to_excel(writer,'Sheet1', columns = ['point_longitude_2015', 'point_latitude_2015'])\n",
    "writer.save()"
   ]
  },
  {
   "cell_type": "code",
   "execution_count": 275,
   "metadata": {},
   "outputs": [],
   "source": [
    "kmeans = KMeans(n_clusters=100, random_state=0).fit(data)"
   ]
  },
  {
   "cell_type": "markdown",
   "metadata": {},
   "source": [
    "### 4.2 Predictions"
   ]
  },
  {
   "cell_type": "code",
   "execution_count": 276,
   "metadata": {},
   "outputs": [],
   "source": [
    "y_means = kmeans.predict(data)"
   ]
  },
  {
   "cell_type": "code",
   "execution_count": 277,
   "metadata": {},
   "outputs": [],
   "source": [
    "centers = kmeans.cluster_centers_"
   ]
  },
  {
   "cell_type": "code",
   "execution_count": 278,
   "metadata": {},
   "outputs": [
    {
     "data": {
      "text/plain": [
       "((156526, 2), (156526,))"
      ]
     },
     "execution_count": 278,
     "metadata": {},
     "output_type": "execute_result"
    }
   ],
   "source": [
    "data.shape, y_means.shape"
   ]
  },
  {
   "cell_type": "markdown",
   "metadata": {},
   "source": [
    "### 4.3 Visualization"
   ]
  },
  {
   "cell_type": "code",
   "execution_count": 279,
   "metadata": {},
   "outputs": [
    {
     "data": {
      "image/png": "[encoded data removed]",
      "text/plain": [
       "<Figure size 432x288 with 1 Axes>"
      ]
     },
     "metadata": {},
     "output_type": "display_data"
    }
   ],
   "source": [
    "plt.title('Locations of police cruisers in SF (2015)', weight ='bold')\n",
    "plt.xlabel('Longitude')\n",
    "plt.ylabel('Latitude')\n",
    "plt.scatter(centers[:, 0], centers[:, 1], c= 'black', alpha =0.5)\n",
    "plt.savefig('plots/centroids_2015.png')  "
   ]
  },
  {
   "cell_type": "markdown",
   "metadata": {},
   "source": [
    "### 4.4 Average Time Calculation"
   ]
  },
  {
   "cell_type": "code",
   "execution_count": 280,
   "metadata": {},
   "outputs": [],
   "source": [
    "total_dist = 0\n",
    "for i in range(len(y_means)):\n",
    "    coords_1 = (centers[y_means[i]][1] , centers[y_means[i]][0])\n",
    "    coords_2 = (data[i][1], data[i][0])\n",
    "    individual_dist = great_circle(coords_1, coords_2).miles\n",
    "    total_dist = total_dist + individual_dist"
   ]
  },
  {
   "cell_type": "code",
   "execution_count": 281,
   "metadata": {},
   "outputs": [
    {
     "data": {
      "text/plain": [
       "0.17909027604793587"
      ]
     },
     "execution_count": 281,
     "metadata": {},
     "output_type": "execute_result"
    }
   ],
   "source": [
    "avg_dist = total_dist/len(y_means)\n",
    "avg_dist"
   ]
  },
  {
   "cell_type": "code",
   "execution_count": 282,
   "metadata": {},
   "outputs": [
    {
     "data": {
      "text/plain": [
       "64.47249937725692"
      ]
     },
     "execution_count": 282,
     "metadata": {},
     "output_type": "execute_result"
    }
   ],
   "source": [
    "calculated_time_2015 = avg_dist *3600 / 10\n",
    "calculated_time_2015"
   ]
  },
  {
   "cell_type": "code",
   "execution_count": 283,
   "metadata": {},
   "outputs": [
    {
     "data": {
      "text/plain": [
       "(156526,)"
      ]
     },
     "execution_count": 283,
     "metadata": {},
     "output_type": "execute_result"
    }
   ],
   "source": [
    "y_means.shape"
   ]
  },
  {
   "cell_type": "markdown",
   "metadata": {},
   "source": [
    "### 4.5 Saving to File"
   ]
  },
  {
   "cell_type": "code",
   "execution_count": 284,
   "metadata": {},
   "outputs": [],
   "source": [
    "df = pd.DataFrame(centers, columns = ['centroid_longitude_2015', 'centroid_latitude_2015'])"
   ]
  },
  {
   "cell_type": "code",
   "execution_count": 285,
   "metadata": {},
   "outputs": [],
   "source": [
    "writer = ExcelWriter('out/centroids_2015_check.xlsx')\n",
    "df.to_excel(writer,'Sheet1', columns = ['centroid_longitude_2015', 'centroid_latitude_2015'])\n",
    "writer.save()"
   ]
  },
  {
   "cell_type": "markdown",
   "metadata": {},
   "source": [
    "## 5. 2014 Data"
   ]
  },
  {
   "cell_type": "code",
   "execution_count": 286,
   "metadata": {},
   "outputs": [
    {
     "data": {
      "text/html": [
       "<div>\n",
       "<style scoped>\n",
       "    .dataframe tbody tr th:only-of-type {\n",
       "        vertical-align: middle;\n",
       "    }\n",
       "\n",
       "    .dataframe tbody tr th {\n",
       "        vertical-align: top;\n",
       "    }\n",
       "\n",
       "    .dataframe thead th {\n",
       "        text-align: right;\n",
       "    }\n",
       "</style>\n",
       "<table border=\"1\" class=\"dataframe\">\n",
       "  <thead>\n",
       "    <tr style=\"text-align: right;\">\n",
       "      <th></th>\n",
       "      <th>index</th>\n",
       "      <th>IncidntNum</th>\n",
       "      <th>Category</th>\n",
       "      <th>Descript</th>\n",
       "      <th>DayOfWeek</th>\n",
       "      <th>Date</th>\n",
       "      <th>Time</th>\n",
       "      <th>PdDistrict</th>\n",
       "      <th>Resolution</th>\n",
       "      <th>Address</th>\n",
       "      <th>X</th>\n",
       "      <th>Y</th>\n",
       "      <th>Location</th>\n",
       "      <th>PdId</th>\n",
       "      <th>Resolution Status</th>\n",
       "      <th>Period of day</th>\n",
       "      <th>Year</th>\n",
       "      <th>Day</th>\n",
       "      <th>Month</th>\n",
       "    </tr>\n",
       "  </thead>\n",
       "  <tbody>\n",
       "    <tr>\n",
       "      <th>1556046</th>\n",
       "      <td>925368</td>\n",
       "      <td>140094278</td>\n",
       "      <td>NON-CRIMINAL</td>\n",
       "      <td>COURTESY REPORT</td>\n",
       "      <td>Wednesday</td>\n",
       "      <td>2014-01-01</td>\n",
       "      <td>00:01</td>\n",
       "      <td>BAYVIEW</td>\n",
       "      <td>UNFOUNDED</td>\n",
       "      <td>1500 Block of MCKINNON AV</td>\n",
       "      <td>-122.388278</td>\n",
       "      <td>37.735395</td>\n",
       "      <td>{'latitude': '37.7353946024567', 'human_addres...</td>\n",
       "      <td>14009427868030</td>\n",
       "      <td>Resolved</td>\n",
       "      <td>NaN</td>\n",
       "      <td>2014</td>\n",
       "      <td>1</td>\n",
       "      <td>1</td>\n",
       "    </tr>\n",
       "    <tr>\n",
       "      <th>1556047</th>\n",
       "      <td>102797</td>\n",
       "      <td>140000281</td>\n",
       "      <td>OTHER OFFENSES</td>\n",
       "      <td>RESISTING ARREST</td>\n",
       "      <td>Wednesday</td>\n",
       "      <td>2014-01-01</td>\n",
       "      <td>02:20</td>\n",
       "      <td>CENTRAL</td>\n",
       "      <td>NONE</td>\n",
       "      <td>0 Block of DRUMM ST</td>\n",
       "      <td>-122.396556</td>\n",
       "      <td>37.794117</td>\n",
       "      <td>{'latitude': '37.7941169057941', 'human_addres...</td>\n",
       "      <td>14000028127170</td>\n",
       "      <td>Unresolved</td>\n",
       "      <td>EarlyMorning</td>\n",
       "      <td>2014</td>\n",
       "      <td>1</td>\n",
       "      <td>1</td>\n",
       "    </tr>\n",
       "    <tr>\n",
       "      <th>1556048</th>\n",
       "      <td>115281</td>\n",
       "      <td>140000639</td>\n",
       "      <td>VANDALISM</td>\n",
       "      <td>MALICIOUS MISCHIEF, VANDALISM</td>\n",
       "      <td>Wednesday</td>\n",
       "      <td>2014-01-01</td>\n",
       "      <td>00:53</td>\n",
       "      <td>NORTHERN</td>\n",
       "      <td>NONE</td>\n",
       "      <td>3200 Block of DIVISADERO ST</td>\n",
       "      <td>-122.442817</td>\n",
       "      <td>37.799490</td>\n",
       "      <td>{'latitude': '37.7994896740468', 'human_addres...</td>\n",
       "      <td>14000063928150</td>\n",
       "      <td>Unresolved</td>\n",
       "      <td>NaN</td>\n",
       "      <td>2014</td>\n",
       "      <td>1</td>\n",
       "      <td>1</td>\n",
       "    </tr>\n",
       "    <tr>\n",
       "      <th>1556049</th>\n",
       "      <td>221408</td>\n",
       "      <td>140768984</td>\n",
       "      <td>EMBEZZLEMENT</td>\n",
       "      <td>EMBEZZLEMENT (GENERAL)</td>\n",
       "      <td>Wednesday</td>\n",
       "      <td>2014-01-01</td>\n",
       "      <td>12:00</td>\n",
       "      <td>CENTRAL</td>\n",
       "      <td>NONE</td>\n",
       "      <td>300 Block of JEFFERSON ST</td>\n",
       "      <td>-122.418277</td>\n",
       "      <td>37.807962</td>\n",
       "      <td>{'latitude': '37.8079624466014', 'human_addres...</td>\n",
       "      <td>14076898410090</td>\n",
       "      <td>Unresolved</td>\n",
       "      <td>Morning</td>\n",
       "      <td>2014</td>\n",
       "      <td>1</td>\n",
       "      <td>1</td>\n",
       "    </tr>\n",
       "    <tr>\n",
       "      <th>1556050</th>\n",
       "      <td>63062</td>\n",
       "      <td>140021384</td>\n",
       "      <td>NON-CRIMINAL</td>\n",
       "      <td>LOST PROPERTY</td>\n",
       "      <td>Wednesday</td>\n",
       "      <td>2014-01-01</td>\n",
       "      <td>16:00</td>\n",
       "      <td>MISSION</td>\n",
       "      <td>NONE</td>\n",
       "      <td>20TH ST / DOLORES ST</td>\n",
       "      <td>-122.425768</td>\n",
       "      <td>37.758226</td>\n",
       "      <td>{'latitude': '37.7582261992584', 'human_addres...</td>\n",
       "      <td>14002138471000</td>\n",
       "      <td>Unresolved</td>\n",
       "      <td>Evening</td>\n",
       "      <td>2014</td>\n",
       "      <td>1</td>\n",
       "      <td>1</td>\n",
       "    </tr>\n",
       "  </tbody>\n",
       "</table>\n",
       "</div>"
      ],
      "text/plain": [
       "          index  IncidntNum        Category                       Descript  \\\n",
       "1556046  925368   140094278    NON-CRIMINAL                COURTESY REPORT   \n",
       "1556047  102797   140000281  OTHER OFFENSES               RESISTING ARREST   \n",
       "1556048  115281   140000639       VANDALISM  MALICIOUS MISCHIEF, VANDALISM   \n",
       "1556049  221408   140768984    EMBEZZLEMENT         EMBEZZLEMENT (GENERAL)   \n",
       "1556050   63062   140021384    NON-CRIMINAL                  LOST PROPERTY   \n",
       "\n",
       "         DayOfWeek       Date   Time PdDistrict Resolution  \\\n",
       "1556046  Wednesday 2014-01-01  00:01    BAYVIEW  UNFOUNDED   \n",
       "1556047  Wednesday 2014-01-01  02:20    CENTRAL       NONE   \n",
       "1556048  Wednesday 2014-01-01  00:53   NORTHERN       NONE   \n",
       "1556049  Wednesday 2014-01-01  12:00    CENTRAL       NONE   \n",
       "1556050  Wednesday 2014-01-01  16:00    MISSION       NONE   \n",
       "\n",
       "                             Address           X          Y  \\\n",
       "1556046    1500 Block of MCKINNON AV -122.388278  37.735395   \n",
       "1556047          0 Block of DRUMM ST -122.396556  37.794117   \n",
       "1556048  3200 Block of DIVISADERO ST -122.442817  37.799490   \n",
       "1556049    300 Block of JEFFERSON ST -122.418277  37.807962   \n",
       "1556050         20TH ST / DOLORES ST -122.425768  37.758226   \n",
       "\n",
       "                                                  Location            PdId  \\\n",
       "1556046  {'latitude': '37.7353946024567', 'human_addres...  14009427868030   \n",
       "1556047  {'latitude': '37.7941169057941', 'human_addres...  14000028127170   \n",
       "1556048  {'latitude': '37.7994896740468', 'human_addres...  14000063928150   \n",
       "1556049  {'latitude': '37.8079624466014', 'human_addres...  14076898410090   \n",
       "1556050  {'latitude': '37.7582261992584', 'human_addres...  14002138471000   \n",
       "\n",
       "        Resolution Status Period of day  Year  Day  Month  \n",
       "1556046          Resolved           NaN  2014    1      1  \n",
       "1556047        Unresolved  EarlyMorning  2014    1      1  \n",
       "1556048        Unresolved           NaN  2014    1      1  \n",
       "1556049        Unresolved       Morning  2014    1      1  \n",
       "1556050        Unresolved       Evening  2014    1      1  "
      ]
     },
     "execution_count": 286,
     "metadata": {},
     "output_type": "execute_result"
    }
   ],
   "source": [
    "crimes_2014_df = incident_df.loc[incident_df['Year'] == 2014]\n",
    "crimes_2014_df.head()"
   ]
  },
  {
   "cell_type": "code",
   "execution_count": 287,
   "metadata": {},
   "outputs": [
    {
     "data": {
      "text/plain": [
       "(150128, 19)"
      ]
     },
     "execution_count": 287,
     "metadata": {},
     "output_type": "execute_result"
    }
   ],
   "source": [
    "crimes_2014_df.shape"
   ]
  },
  {
   "cell_type": "code",
   "execution_count": 288,
   "metadata": {},
   "outputs": [],
   "source": [
    "data = np.array(crimes_2014_df[['X', 'Y']])"
   ]
  },
  {
   "cell_type": "markdown",
   "metadata": {},
   "source": [
    "### 5.1 Clustering"
   ]
  },
  {
   "cell_type": "code",
   "execution_count": 290,
   "metadata": {},
   "outputs": [],
   "source": [
    "df = pd.DataFrame(data, columns = ['point_longitude_2016', 'point_latitude_2016'])\n",
    "\n",
    "writer = ExcelWriter('out/points_2016_plot.xlsx')\n",
    "df.to_excel(writer,'Sheet1', columns = ['point_longitude_2016', 'point_latitude_2016'])\n",
    "writer.save()"
   ]
  },
  {
   "cell_type": "code",
   "execution_count": 291,
   "metadata": {},
   "outputs": [],
   "source": [
    "kmeans = KMeans(n_clusters=100, random_state=0).fit(data)"
   ]
  },
  {
   "cell_type": "markdown",
   "metadata": {},
   "source": [
    "### 5.2 Predictions"
   ]
  },
  {
   "cell_type": "code",
   "execution_count": 292,
   "metadata": {},
   "outputs": [],
   "source": [
    "y_means = kmeans.predict(data)"
   ]
  },
  {
   "cell_type": "code",
   "execution_count": 293,
   "metadata": {},
   "outputs": [],
   "source": [
    "centers = kmeans.cluster_centers_"
   ]
  },
  {
   "cell_type": "code",
   "execution_count": 294,
   "metadata": {},
   "outputs": [
    {
     "data": {
      "text/plain": [
       "((150128, 2), (150128,))"
      ]
     },
     "execution_count": 294,
     "metadata": {},
     "output_type": "execute_result"
    }
   ],
   "source": [
    "data.shape, y_means.shape"
   ]
  },
  {
   "cell_type": "markdown",
   "metadata": {},
   "source": [
    "### 5.3 Visualization"
   ]
  },
  {
   "cell_type": "code",
   "execution_count": 297,
   "metadata": {},
   "outputs": [
    {
     "data": {
      "image/png": "[encoded data removed]",
      "text/plain": [
       "<Figure size 432x288 with 1 Axes>"
      ]
     },
     "metadata": {},
     "output_type": "display_data"
    }
   ],
   "source": [
    "plt.title('Locations of police cruisers in SF (2014)', weight ='bold')\n",
    "plt.xlabel('Longitude')\n",
    "plt.ylabel('Latitude')\n",
    "plt.scatter(centers[:, 0], centers[:, 1], c= 'black', alpha =0.5)\n",
    "plt.savefig('plots/centroids_2014.png')  "
   ]
  },
  {
   "cell_type": "markdown",
   "metadata": {},
   "source": [
    "### 5.4 Average Time Calculation"
   ]
  },
  {
   "cell_type": "code",
   "execution_count": 298,
   "metadata": {},
   "outputs": [],
   "source": [
    "total_dist = 0\n",
    "for i in range(len(y_means)):\n",
    "    coords_1 = (centers[y_means[i]][1] , centers[y_means[i]][0])\n",
    "    coords_2 = (data[i][1], data[i][0])\n",
    "    individual_dist = great_circle(coords_1, coords_2).miles\n",
    "    total_dist = total_dist + individual_dist"
   ]
  },
  {
   "cell_type": "code",
   "execution_count": 299,
   "metadata": {},
   "outputs": [
    {
     "data": {
      "text/plain": [
       "0.173541700050719"
      ]
     },
     "execution_count": 299,
     "metadata": {},
     "output_type": "execute_result"
    }
   ],
   "source": [
    "avg_dist = total_dist/len(y_means)\n",
    "avg_dist"
   ]
  },
  {
   "cell_type": "code",
   "execution_count": 300,
   "metadata": {},
   "outputs": [
    {
     "data": {
      "text/plain": [
       "62.47501201825884"
      ]
     },
     "execution_count": 300,
     "metadata": {},
     "output_type": "execute_result"
    }
   ],
   "source": [
    "calculated_time_2014 = avg_dist *3600 / 10\n",
    "calculated_time_2014"
   ]
  },
  {
   "cell_type": "code",
   "execution_count": 301,
   "metadata": {},
   "outputs": [
    {
     "data": {
      "text/plain": [
       "(150128,)"
      ]
     },
     "execution_count": 301,
     "metadata": {},
     "output_type": "execute_result"
    }
   ],
   "source": [
    "y_means.shape"
   ]
  },
  {
   "cell_type": "markdown",
   "metadata": {},
   "source": [
    "### 5.5 Saving to File"
   ]
  },
  {
   "cell_type": "code",
   "execution_count": 302,
   "metadata": {},
   "outputs": [],
   "source": [
    "df = pd.DataFrame(centers, columns = ['centroid_longitude_2014', 'centroid_latitude_2014'])"
   ]
  },
  {
   "cell_type": "code",
   "execution_count": 303,
   "metadata": {},
   "outputs": [],
   "source": [
    "writer = ExcelWriter('out/centroids_2014_check.xlsx')\n",
    "df.to_excel(writer,'Sheet1', columns = ['centroid_longitude_2014', 'centroid_latitude_2014'])\n",
    "writer.save()"
   ]
  },
  {
   "cell_type": "markdown",
   "metadata": {},
   "source": [
    "## 6. 2013 Data"
   ]
  },
  {
   "cell_type": "code",
   "execution_count": 304,
   "metadata": {},
   "outputs": [
    {
     "data": {
      "text/html": [
       "<div>\n",
       "<style scoped>\n",
       "    .dataframe tbody tr th:only-of-type {\n",
       "        vertical-align: middle;\n",
       "    }\n",
       "\n",
       "    .dataframe tbody tr th {\n",
       "        vertical-align: top;\n",
       "    }\n",
       "\n",
       "    .dataframe thead th {\n",
       "        text-align: right;\n",
       "    }\n",
       "</style>\n",
       "<table border=\"1\" class=\"dataframe\">\n",
       "  <thead>\n",
       "    <tr style=\"text-align: right;\">\n",
       "      <th></th>\n",
       "      <th>index</th>\n",
       "      <th>IncidntNum</th>\n",
       "      <th>Category</th>\n",
       "      <th>Descript</th>\n",
       "      <th>DayOfWeek</th>\n",
       "      <th>Date</th>\n",
       "      <th>Time</th>\n",
       "      <th>PdDistrict</th>\n",
       "      <th>Resolution</th>\n",
       "      <th>Address</th>\n",
       "      <th>X</th>\n",
       "      <th>Y</th>\n",
       "      <th>Location</th>\n",
       "      <th>PdId</th>\n",
       "      <th>Resolution Status</th>\n",
       "      <th>Period of day</th>\n",
       "      <th>Year</th>\n",
       "      <th>Day</th>\n",
       "      <th>Month</th>\n",
       "    </tr>\n",
       "  </thead>\n",
       "  <tbody>\n",
       "    <tr>\n",
       "      <th>1403240</th>\n",
       "      <td>347011</td>\n",
       "      <td>136003805</td>\n",
       "      <td>OTHER OFFENSES</td>\n",
       "      <td>TAMPERING WITH A VEHICLE</td>\n",
       "      <td>Tuesday</td>\n",
       "      <td>2013-01-01</td>\n",
       "      <td>01:00</td>\n",
       "      <td>PARK</td>\n",
       "      <td>NONE</td>\n",
       "      <td>300 Block of BAKER ST</td>\n",
       "      <td>-122.441086</td>\n",
       "      <td>37.774102</td>\n",
       "      <td>{'latitude': '37.7741016205702', 'human_addres...</td>\n",
       "      <td>13600380507100</td>\n",
       "      <td>Unresolved</td>\n",
       "      <td>EarlyMorning</td>\n",
       "      <td>2013</td>\n",
       "      <td>1</td>\n",
       "      <td>1</td>\n",
       "    </tr>\n",
       "    <tr>\n",
       "      <th>1403241</th>\n",
       "      <td>135868</td>\n",
       "      <td>130001910</td>\n",
       "      <td>ASSAULT</td>\n",
       "      <td>BATTERY</td>\n",
       "      <td>Tuesday</td>\n",
       "      <td>2013-01-01</td>\n",
       "      <td>15:23</td>\n",
       "      <td>SOUTHERN</td>\n",
       "      <td>EXCEPTIONAL CLEARANCE</td>\n",
       "      <td>200 Block of 6TH ST</td>\n",
       "      <td>-122.406346</td>\n",
       "      <td>37.779167</td>\n",
       "      <td>{'latitude': '37.7791674218963', 'human_addres...</td>\n",
       "      <td>13000191004134</td>\n",
       "      <td>Resolved</td>\n",
       "      <td>Evening</td>\n",
       "      <td>2013</td>\n",
       "      <td>1</td>\n",
       "      <td>1</td>\n",
       "    </tr>\n",
       "    <tr>\n",
       "      <th>1403242</th>\n",
       "      <td>1071006</td>\n",
       "      <td>140669984</td>\n",
       "      <td>SUSPICIOUS OCC</td>\n",
       "      <td>SUSPICIOUS ACT TOWARDS FEMALE</td>\n",
       "      <td>Tuesday</td>\n",
       "      <td>2013-01-01</td>\n",
       "      <td>14:20</td>\n",
       "      <td>NORTHERN</td>\n",
       "      <td>UNFOUNDED</td>\n",
       "      <td>100 Block of WEBSTER ST</td>\n",
       "      <td>-122.428729</td>\n",
       "      <td>37.771608</td>\n",
       "      <td>{'latitude': '37.7716078589058', 'human_addres...</td>\n",
       "      <td>14066998464060</td>\n",
       "      <td>Resolved</td>\n",
       "      <td>Morning</td>\n",
       "      <td>2013</td>\n",
       "      <td>1</td>\n",
       "      <td>1</td>\n",
       "    </tr>\n",
       "    <tr>\n",
       "      <th>1403243</th>\n",
       "      <td>285787</td>\n",
       "      <td>130018084</td>\n",
       "      <td>MISSING PERSON</td>\n",
       "      <td>MISSING ADULT</td>\n",
       "      <td>Tuesday</td>\n",
       "      <td>2013-01-01</td>\n",
       "      <td>21:00</td>\n",
       "      <td>INGLESIDE</td>\n",
       "      <td>LOCATED</td>\n",
       "      <td>200 Block of LOWELL ST</td>\n",
       "      <td>-122.445086</td>\n",
       "      <td>37.708900</td>\n",
       "      <td>{'latitude': '37.7089002573584', 'human_addres...</td>\n",
       "      <td>13001808474000</td>\n",
       "      <td>Resolved</td>\n",
       "      <td>Night</td>\n",
       "      <td>2013</td>\n",
       "      <td>1</td>\n",
       "      <td>1</td>\n",
       "    </tr>\n",
       "    <tr>\n",
       "      <th>1403244</th>\n",
       "      <td>350923</td>\n",
       "      <td>130002275</td>\n",
       "      <td>SECONDARY CODES</td>\n",
       "      <td>DOMESTIC VIOLENCE</td>\n",
       "      <td>Tuesday</td>\n",
       "      <td>2013-01-01</td>\n",
       "      <td>17:39</td>\n",
       "      <td>INGLESIDE</td>\n",
       "      <td>ARREST, BOOKED</td>\n",
       "      <td>300 Block of LAGRANDE AV</td>\n",
       "      <td>-122.425724</td>\n",
       "      <td>37.719774</td>\n",
       "      <td>{'latitude': '37.7197741751287', 'human_addres...</td>\n",
       "      <td>13000227515200</td>\n",
       "      <td>Resolved</td>\n",
       "      <td>Evening</td>\n",
       "      <td>2013</td>\n",
       "      <td>1</td>\n",
       "      <td>1</td>\n",
       "    </tr>\n",
       "  </tbody>\n",
       "</table>\n",
       "</div>"
      ],
      "text/plain": [
       "           index  IncidntNum         Category                       Descript  \\\n",
       "1403240   347011   136003805   OTHER OFFENSES       TAMPERING WITH A VEHICLE   \n",
       "1403241   135868   130001910          ASSAULT                        BATTERY   \n",
       "1403242  1071006   140669984   SUSPICIOUS OCC  SUSPICIOUS ACT TOWARDS FEMALE   \n",
       "1403243   285787   130018084   MISSING PERSON                  MISSING ADULT   \n",
       "1403244   350923   130002275  SECONDARY CODES              DOMESTIC VIOLENCE   \n",
       "\n",
       "        DayOfWeek       Date   Time PdDistrict             Resolution  \\\n",
       "1403240   Tuesday 2013-01-01  01:00       PARK                   NONE   \n",
       "1403241   Tuesday 2013-01-01  15:23   SOUTHERN  EXCEPTIONAL CLEARANCE   \n",
       "1403242   Tuesday 2013-01-01  14:20   NORTHERN              UNFOUNDED   \n",
       "1403243   Tuesday 2013-01-01  21:00  INGLESIDE                LOCATED   \n",
       "1403244   Tuesday 2013-01-01  17:39  INGLESIDE         ARREST, BOOKED   \n",
       "\n",
       "                          Address           X          Y  \\\n",
       "1403240     300 Block of BAKER ST -122.441086  37.774102   \n",
       "1403241       200 Block of 6TH ST -122.406346  37.779167   \n",
       "1403242   100 Block of WEBSTER ST -122.428729  37.771608   \n",
       "1403243    200 Block of LOWELL ST -122.445086  37.708900   \n",
       "1403244  300 Block of LAGRANDE AV -122.425724  37.719774   \n",
       "\n",
       "                                                  Location            PdId  \\\n",
       "1403240  {'latitude': '37.7741016205702', 'human_addres...  13600380507100   \n",
       "1403241  {'latitude': '37.7791674218963', 'human_addres...  13000191004134   \n",
       "1403242  {'latitude': '37.7716078589058', 'human_addres...  14066998464060   \n",
       "1403243  {'latitude': '37.7089002573584', 'human_addres...  13001808474000   \n",
       "1403244  {'latitude': '37.7197741751287', 'human_addres...  13000227515200   \n",
       "\n",
       "        Resolution Status Period of day  Year  Day  Month  \n",
       "1403240        Unresolved  EarlyMorning  2013    1      1  \n",
       "1403241          Resolved       Evening  2013    1      1  \n",
       "1403242          Resolved       Morning  2013    1      1  \n",
       "1403243          Resolved         Night  2013    1      1  \n",
       "1403244          Resolved       Evening  2013    1      1  "
      ]
     },
     "execution_count": 304,
     "metadata": {},
     "output_type": "execute_result"
    }
   ],
   "source": [
    "crimes_2013_df = incident_df.loc[incident_df['Year'] == 2013]\n",
    "crimes_2013_df.head()"
   ]
  },
  {
   "cell_type": "code",
   "execution_count": 305,
   "metadata": {},
   "outputs": [
    {
     "data": {
      "text/plain": [
       "(152806, 19)"
      ]
     },
     "execution_count": 305,
     "metadata": {},
     "output_type": "execute_result"
    }
   ],
   "source": [
    "crimes_2013_df.shape"
   ]
  },
  {
   "cell_type": "code",
   "execution_count": 306,
   "metadata": {},
   "outputs": [],
   "source": [
    "data = np.array(crimes_2013_df[['X', 'Y']])"
   ]
  },
  {
   "cell_type": "markdown",
   "metadata": {},
   "source": [
    "### 6.1 Clustering"
   ]
  },
  {
   "cell_type": "code",
   "execution_count": 307,
   "metadata": {},
   "outputs": [],
   "source": [
    "df = pd.DataFrame(data, columns = ['point_longitude_2013', 'point_latitude_2013'])\n",
    "\n",
    "writer = ExcelWriter('out/points_2013_plot.xlsx')\n",
    "df.to_excel(writer,'Sheet1', columns = ['point_longitude_2013', 'point_latitude_2013'])\n",
    "writer.save()"
   ]
  },
  {
   "cell_type": "code",
   "execution_count": 308,
   "metadata": {},
   "outputs": [],
   "source": [
    "kmeans = KMeans(n_clusters=100, random_state=0).fit(data)"
   ]
  },
  {
   "cell_type": "markdown",
   "metadata": {},
   "source": [
    "### 6.2 Predictions"
   ]
  },
  {
   "cell_type": "code",
   "execution_count": 309,
   "metadata": {},
   "outputs": [],
   "source": [
    "y_means = kmeans.predict(data)"
   ]
  },
  {
   "cell_type": "code",
   "execution_count": 310,
   "metadata": {},
   "outputs": [],
   "source": [
    "centers = kmeans.cluster_centers_"
   ]
  },
  {
   "cell_type": "code",
   "execution_count": 311,
   "metadata": {},
   "outputs": [
    {
     "data": {
      "text/plain": [
       "((152806, 2), (152806,))"
      ]
     },
     "execution_count": 311,
     "metadata": {},
     "output_type": "execute_result"
    }
   ],
   "source": [
    "data.shape, y_means.shape"
   ]
  },
  {
   "cell_type": "markdown",
   "metadata": {},
   "source": [
    "### 6.3 Visualization"
   ]
  },
  {
   "cell_type": "code",
   "execution_count": 312,
   "metadata": {},
   "outputs": [
    {
     "data": {
      "text/plain": [
       "((152806, 2), (152806,))"
      ]
     },
     "execution_count": 312,
     "metadata": {},
     "output_type": "execute_result"
    }
   ],
   "source": [
    "data.shape, y_means.shape"
   ]
  },
  {
   "cell_type": "code",
   "execution_count": 313,
   "metadata": {},
   "outputs": [
    {
     "data": {
      "image/png": "[encoded data removed]",
      "text/plain": [
       "<Figure size 432x288 with 1 Axes>"
      ]
     },
     "metadata": {},
     "output_type": "display_data"
    }
   ],
   "source": [
    "plt.title('Locations of police cruisers in SF (2013)', weight ='bold')\n",
    "plt.xlabel('Longitude')\n",
    "plt.ylabel('Latitude')\n",
    "plt.scatter(centers[:, 0], centers[:, 1], c= 'black', alpha =0.5)\n",
    "plt.savefig('plots/centroids_2013.png')  "
   ]
  },
  {
   "cell_type": "markdown",
   "metadata": {},
   "source": [
    "### 6.4 Average Time Calculation"
   ]
  },
  {
   "cell_type": "code",
   "execution_count": 314,
   "metadata": {},
   "outputs": [],
   "source": [
    "total_dist = 0\n",
    "for i in range(len(y_means)):\n",
    "    coords_1 = (centers[y_means[i]][1] , centers[y_means[i]][0])\n",
    "    coords_2 = (data[i][1], data[i][0])\n",
    "    individual_dist = great_circle(coords_1, coords_2).miles\n",
    "    total_dist = total_dist + individual_dist"
   ]
  },
  {
   "cell_type": "code",
   "execution_count": 315,
   "metadata": {},
   "outputs": [
    {
     "data": {
      "text/plain": [
       "0.1715233020284497"
      ]
     },
     "execution_count": 315,
     "metadata": {},
     "output_type": "execute_result"
    }
   ],
   "source": [
    "avg_dist = total_dist/len(y_means)\n",
    "avg_dist"
   ]
  },
  {
   "cell_type": "code",
   "execution_count": 316,
   "metadata": {},
   "outputs": [
    {
     "data": {
      "text/plain": [
       "61.74838873024189"
      ]
     },
     "execution_count": 316,
     "metadata": {},
     "output_type": "execute_result"
    }
   ],
   "source": [
    "calculated_time_2013 = avg_dist *3600 / 10\n",
    "calculated_time_2013"
   ]
  },
  {
   "cell_type": "code",
   "execution_count": 317,
   "metadata": {},
   "outputs": [
    {
     "data": {
      "text/plain": [
       "(152806,)"
      ]
     },
     "execution_count": 317,
     "metadata": {},
     "output_type": "execute_result"
    }
   ],
   "source": [
    "y_means.shape"
   ]
  },
  {
   "cell_type": "markdown",
   "metadata": {},
   "source": [
    "### 6.5 Saving to File"
   ]
  },
  {
   "cell_type": "code",
   "execution_count": 318,
   "metadata": {},
   "outputs": [],
   "source": [
    "df = pd.DataFrame(centers, columns = ['centroid_longitude_2013', 'centroid_latitude_2013'])"
   ]
  },
  {
   "cell_type": "code",
   "execution_count": 319,
   "metadata": {},
   "outputs": [],
   "source": [
    "writer = ExcelWriter('out/centroids_2013_check.xlsx')\n",
    "df.to_excel(writer,'Sheet1', columns = ['centroid_longitude_2013', 'centroid_latitude_2013'])\n",
    "writer.save()"
   ]
  },
  {
   "cell_type": "markdown",
   "metadata": {},
   "source": [
    "## Step-4: Analytics"
   ]
  },
  {
   "cell_type": "markdown",
   "metadata": {},
   "source": [
    "### 4.1 Heatmap for crimes in 2018"
   ]
  },
  {
   "cell_type": "code",
   "execution_count": 320,
   "metadata": {},
   "outputs": [],
   "source": [
    "crimes_2018_cross_tabulate = pd.crosstab(crimes_2018_df.PdDistrict,crimes_2018_df.Category,margins=True)\n",
    "del crimes_2018_cross_tabulate['All'] \n",
    "crimes_2018_cross_tabulate = crimes_2018_cross_tabulate.iloc[:-1] "
   ]
  },
  {
   "cell_type": "code",
   "execution_count": 321,
   "metadata": {},
   "outputs": [],
   "source": [
    "column_labels_2018 = list(crimes_2018_cross_tabulate.columns.values)\n",
    "row_labels_2018 = crimes_2018_cross_tabulate.index.values.tolist()"
   ]
  },
  {
   "cell_type": "code",
   "execution_count": 322,
   "metadata": {},
   "outputs": [
    {
     "data": {
      "image/png": "[encoded data removed]",
      "text/plain": [
       "<Figure size 1800x576 with 2 Axes>"
      ]
     },
     "metadata": {},
     "output_type": "display_data"
    }
   ],
   "source": [
    "#figure properties\n",
    "fig,ax = plt.subplots()\n",
    "heatmap = ax.pcolor(crimes_2018_cross_tabulate,cmap='Blues')\n",
    "fig.set_size_inches(25,8)\n",
    "\n",
    "# Ticks \n",
    "\n",
    "ax.set_yticks(np.arange(crimes_2018_cross_tabulate.shape[0])+0.5, minor=False)\n",
    "ax.set_xticks(np.arange(crimes_2018_cross_tabulate.shape[1])+0.5, minor=False)\n",
    "\n",
    "# Tick Labels\n",
    "ax.set_xticklabels(column_labels_2018)\n",
    "ax.set_yticklabels(row_labels_2018)\n",
    "ax.invert_yaxis()\n",
    "ax.xaxis.tick_top()\n",
    "plt.xticks(rotation=90)\n",
    "\n",
    "# Show & Save Plot\n",
    "plt.colorbar(heatmap)\n",
    "plt.savefig (\"plots/Heat_map_2018.png\")\n",
    "plt.show()"
   ]
  },
  {
   "cell_type": "markdown",
   "metadata": {},
   "source": [
    "### 4.2 Frequency of Crime percentage by Category"
   ]
  },
  {
   "cell_type": "code",
   "execution_count": 323,
   "metadata": {},
   "outputs": [
    {
     "data": {
      "text/html": [
       "<div>\n",
       "<style scoped>\n",
       "    .dataframe tbody tr th:only-of-type {\n",
       "        vertical-align: middle;\n",
       "    }\n",
       "\n",
       "    .dataframe tbody tr th {\n",
       "        vertical-align: top;\n",
       "    }\n",
       "\n",
       "    .dataframe thead th {\n",
       "        text-align: right;\n",
       "    }\n",
       "</style>\n",
       "<table border=\"1\" class=\"dataframe\">\n",
       "  <thead>\n",
       "    <tr style=\"text-align: right;\">\n",
       "      <th></th>\n",
       "      <th>Category</th>\n",
       "      <th>Percentage</th>\n",
       "    </tr>\n",
       "  </thead>\n",
       "  <tbody>\n",
       "    <tr>\n",
       "      <th>LARCENY/THEFT</th>\n",
       "      <td>13632</td>\n",
       "      <td>29.210594</td>\n",
       "    </tr>\n",
       "    <tr>\n",
       "      <th>OTHER OFFENSES</th>\n",
       "      <td>5568</td>\n",
       "      <td>11.931088</td>\n",
       "    </tr>\n",
       "    <tr>\n",
       "      <th>NON-CRIMINAL</th>\n",
       "      <td>5247</td>\n",
       "      <td>11.243250</td>\n",
       "    </tr>\n",
       "    <tr>\n",
       "      <th>ASSAULT</th>\n",
       "      <td>4599</td>\n",
       "      <td>9.854718</td>\n",
       "    </tr>\n",
       "    <tr>\n",
       "      <th>VANDALISM</th>\n",
       "      <td>2796</td>\n",
       "      <td>5.991257</td>\n",
       "    </tr>\n",
       "    <tr>\n",
       "      <th>BURGLARY</th>\n",
       "      <td>2098</td>\n",
       "      <td>4.495586</td>\n",
       "    </tr>\n",
       "    <tr>\n",
       "      <th>SUSPICIOUS OCC</th>\n",
       "      <td>1714</td>\n",
       "      <td>3.672752</td>\n",
       "    </tr>\n",
       "    <tr>\n",
       "      <th>WARRANTS</th>\n",
       "      <td>1618</td>\n",
       "      <td>3.467044</td>\n",
       "    </tr>\n",
       "    <tr>\n",
       "      <th>DRUG/NARCOTIC</th>\n",
       "      <td>1482</td>\n",
       "      <td>3.175624</td>\n",
       "    </tr>\n",
       "    <tr>\n",
       "      <th>VEHICLE THEFT</th>\n",
       "      <td>1475</td>\n",
       "      <td>3.160624</td>\n",
       "    </tr>\n",
       "    <tr>\n",
       "      <th>MISSING PERSON</th>\n",
       "      <td>1264</td>\n",
       "      <td>2.708494</td>\n",
       "    </tr>\n",
       "    <tr>\n",
       "      <th>ROBBERY</th>\n",
       "      <td>1071</td>\n",
       "      <td>2.294934</td>\n",
       "    </tr>\n",
       "    <tr>\n",
       "      <th>FRAUD</th>\n",
       "      <td>809</td>\n",
       "      <td>1.733522</td>\n",
       "    </tr>\n",
       "    <tr>\n",
       "      <th>SECONDARY CODES</th>\n",
       "      <td>642</td>\n",
       "      <td>1.375675</td>\n",
       "    </tr>\n",
       "    <tr>\n",
       "      <th>WEAPON LAWS</th>\n",
       "      <td>619</td>\n",
       "      <td>1.326391</td>\n",
       "    </tr>\n",
       "    <tr>\n",
       "      <th>TRESPASS</th>\n",
       "      <td>514</td>\n",
       "      <td>1.101397</td>\n",
       "    </tr>\n",
       "    <tr>\n",
       "      <th>SEX OFFENSES, FORCIBLE</th>\n",
       "      <td>319</td>\n",
       "      <td>0.683552</td>\n",
       "    </tr>\n",
       "    <tr>\n",
       "      <th>STOLEN PROPERTY</th>\n",
       "      <td>263</td>\n",
       "      <td>0.563555</td>\n",
       "    </tr>\n",
       "    <tr>\n",
       "      <th>FORGERY/COUNTERFEITING</th>\n",
       "      <td>195</td>\n",
       "      <td>0.417845</td>\n",
       "    </tr>\n",
       "    <tr>\n",
       "      <th>ARSON</th>\n",
       "      <td>97</td>\n",
       "      <td>0.207851</td>\n",
       "    </tr>\n",
       "    <tr>\n",
       "      <th>DISORDERLY CONDUCT</th>\n",
       "      <td>95</td>\n",
       "      <td>0.203566</td>\n",
       "    </tr>\n",
       "    <tr>\n",
       "      <th>DRIVING UNDER THE INFLUENCE</th>\n",
       "      <td>92</td>\n",
       "      <td>0.197137</td>\n",
       "    </tr>\n",
       "    <tr>\n",
       "      <th>RUNAWAY</th>\n",
       "      <td>87</td>\n",
       "      <td>0.186423</td>\n",
       "    </tr>\n",
       "    <tr>\n",
       "      <th>DRUNKENNESS</th>\n",
       "      <td>84</td>\n",
       "      <td>0.179995</td>\n",
       "    </tr>\n",
       "    <tr>\n",
       "      <th>KIDNAPPING</th>\n",
       "      <td>73</td>\n",
       "      <td>0.156424</td>\n",
       "    </tr>\n",
       "    <tr>\n",
       "      <th>PROSTITUTION</th>\n",
       "      <td>48</td>\n",
       "      <td>0.102854</td>\n",
       "    </tr>\n",
       "    <tr>\n",
       "      <th>EMBEZZLEMENT</th>\n",
       "      <td>45</td>\n",
       "      <td>0.096426</td>\n",
       "    </tr>\n",
       "    <tr>\n",
       "      <th>SUICIDE</th>\n",
       "      <td>18</td>\n",
       "      <td>0.038570</td>\n",
       "    </tr>\n",
       "    <tr>\n",
       "      <th>BRIBERY</th>\n",
       "      <td>17</td>\n",
       "      <td>0.036428</td>\n",
       "    </tr>\n",
       "    <tr>\n",
       "      <th>LOITERING</th>\n",
       "      <td>16</td>\n",
       "      <td>0.034285</td>\n",
       "    </tr>\n",
       "    <tr>\n",
       "      <th>LIQUOR LAWS</th>\n",
       "      <td>14</td>\n",
       "      <td>0.029999</td>\n",
       "    </tr>\n",
       "    <tr>\n",
       "      <th>FAMILY OFFENSES</th>\n",
       "      <td>13</td>\n",
       "      <td>0.027856</td>\n",
       "    </tr>\n",
       "    <tr>\n",
       "      <th>EXTORTION</th>\n",
       "      <td>12</td>\n",
       "      <td>0.025714</td>\n",
       "    </tr>\n",
       "    <tr>\n",
       "      <th>SEX OFFENSES, NON FORCIBLE</th>\n",
       "      <td>11</td>\n",
       "      <td>0.023571</td>\n",
       "    </tr>\n",
       "    <tr>\n",
       "      <th>GAMBLING</th>\n",
       "      <td>9</td>\n",
       "      <td>0.019285</td>\n",
       "    </tr>\n",
       "    <tr>\n",
       "      <th>BAD CHECKS</th>\n",
       "      <td>9</td>\n",
       "      <td>0.019285</td>\n",
       "    </tr>\n",
       "    <tr>\n",
       "      <th>PORNOGRAPHY/OBSCENE MAT</th>\n",
       "      <td>3</td>\n",
       "      <td>0.006428</td>\n",
       "    </tr>\n",
       "  </tbody>\n",
       "</table>\n",
       "</div>"
      ],
      "text/plain": [
       "                             Category  Percentage\n",
       "LARCENY/THEFT                   13632   29.210594\n",
       "OTHER OFFENSES                   5568   11.931088\n",
       "NON-CRIMINAL                     5247   11.243250\n",
       "ASSAULT                          4599    9.854718\n",
       "VANDALISM                        2796    5.991257\n",
       "BURGLARY                         2098    4.495586\n",
       "SUSPICIOUS OCC                   1714    3.672752\n",
       "WARRANTS                         1618    3.467044\n",
       "DRUG/NARCOTIC                    1482    3.175624\n",
       "VEHICLE THEFT                    1475    3.160624\n",
       "MISSING PERSON                   1264    2.708494\n",
       "ROBBERY                          1071    2.294934\n",
       "FRAUD                             809    1.733522\n",
       "SECONDARY CODES                   642    1.375675\n",
       "WEAPON LAWS                       619    1.326391\n",
       "TRESPASS                          514    1.101397\n",
       "SEX OFFENSES, FORCIBLE            319    0.683552\n",
       "STOLEN PROPERTY                   263    0.563555\n",
       "FORGERY/COUNTERFEITING            195    0.417845\n",
       "ARSON                              97    0.207851\n",
       "DISORDERLY CONDUCT                 95    0.203566\n",
       "DRIVING UNDER THE INFLUENCE        92    0.197137\n",
       "RUNAWAY                            87    0.186423\n",
       "DRUNKENNESS                        84    0.179995\n",
       "KIDNAPPING                         73    0.156424\n",
       "PROSTITUTION                       48    0.102854\n",
       "EMBEZZLEMENT                       45    0.096426\n",
       "SUICIDE                            18    0.038570\n",
       "BRIBERY                            17    0.036428\n",
       "LOITERING                          16    0.034285\n",
       "LIQUOR LAWS                        14    0.029999\n",
       "FAMILY OFFENSES                    13    0.027856\n",
       "EXTORTION                          12    0.025714\n",
       "SEX OFFENSES, NON FORCIBLE         11    0.023571\n",
       "GAMBLING                            9    0.019285\n",
       "BAD CHECKS                          9    0.019285\n",
       "PORNOGRAPHY/OBSCENE MAT             3    0.006428"
      ]
     },
     "execution_count": 323,
     "metadata": {},
     "output_type": "execute_result"
    }
   ],
   "source": [
    "Category_crimes_2018_df = pd.DataFrame(crimes_2018_df.Category.value_counts())\n",
    "Category_crimes_2018_df[\"Percentage\"] = (Category_crimes_2018_df[\"Category\"]/Category_crimes_2018_df[\"Category\"].sum())*100\n",
    "Category_crimes_2018_df"
   ]
  },
  {
   "cell_type": "markdown",
   "metadata": {},
   "source": [
    "### 4.3 Bar Plot by frequency"
   ]
  },
  {
   "cell_type": "code",
   "execution_count": 324,
   "metadata": {},
   "outputs": [
    {
     "data": {
      "image/png": "[encoded data removed]",
      "text/plain": [
       "<Figure size 1440x576 with 1 Axes>"
      ]
     },
     "metadata": {},
     "output_type": "display_data"
    }
   ],
   "source": [
    "fig = Category_crimes_2018_df[\"Percentage\"].plot(kind=\"bar\", figsize = (20,8), rot=90) \n",
    "\n",
    "fig.set_title(\"Frequency of Crime percentage by Category - 2018\", fontsize=25, weight = \"bold\")\n",
    "fig.set_xlabel(\"Crime Category\", fontsize=18)\n",
    "fig.set_ylabel(\"Percentage of Crimes\", fontsize=18)\n",
    "plt.savefig('plots/perc_crime_category_2018.png')\n",
    "plt.show()"
   ]
  },
  {
   "cell_type": "markdown",
   "metadata": {},
   "source": [
    "## Step-5: Evaluation"
   ]
  },
  {
   "cell_type": "code",
   "execution_count": 325,
   "metadata": {},
   "outputs": [],
   "source": [
    "actual_times = pd.read_excel('data/actual_time.xlsx')"
   ]
  },
  {
   "cell_type": "code",
   "execution_count": 326,
   "metadata": {},
   "outputs": [
    {
     "data": {
      "text/html": [
       "<div>\n",
       "<style scoped>\n",
       "    .dataframe tbody tr th:only-of-type {\n",
       "        vertical-align: middle;\n",
       "    }\n",
       "\n",
       "    .dataframe tbody tr th {\n",
       "        vertical-align: top;\n",
       "    }\n",
       "\n",
       "    .dataframe thead th {\n",
       "        text-align: right;\n",
       "    }\n",
       "</style>\n",
       "<table border=\"1\" class=\"dataframe\">\n",
       "  <thead>\n",
       "    <tr style=\"text-align: right;\">\n",
       "      <th></th>\n",
       "      <th>Month</th>\n",
       "      <th>Year</th>\n",
       "      <th>Time</th>\n",
       "    </tr>\n",
       "  </thead>\n",
       "  <tbody>\n",
       "    <tr>\n",
       "      <th>0</th>\n",
       "      <td>January</td>\n",
       "      <td>2016</td>\n",
       "      <td>293</td>\n",
       "    </tr>\n",
       "    <tr>\n",
       "      <th>1</th>\n",
       "      <td>February</td>\n",
       "      <td>2016</td>\n",
       "      <td>302</td>\n",
       "    </tr>\n",
       "    <tr>\n",
       "      <th>2</th>\n",
       "      <td>March</td>\n",
       "      <td>2016</td>\n",
       "      <td>298</td>\n",
       "    </tr>\n",
       "    <tr>\n",
       "      <th>3</th>\n",
       "      <td>April</td>\n",
       "      <td>2016</td>\n",
       "      <td>294</td>\n",
       "    </tr>\n",
       "    <tr>\n",
       "      <th>4</th>\n",
       "      <td>May</td>\n",
       "      <td>2016</td>\n",
       "      <td>294</td>\n",
       "    </tr>\n",
       "  </tbody>\n",
       "</table>\n",
       "</div>"
      ],
      "text/plain": [
       "      Month  Year  Time\n",
       "0   January  2016   293\n",
       "1  February  2016   302\n",
       "2     March  2016   298\n",
       "3     April  2016   294\n",
       "4       May  2016   294"
      ]
     },
     "execution_count": 326,
     "metadata": {},
     "output_type": "execute_result"
    }
   ],
   "source": [
    "actual_times.head()"
   ]
  },
  {
   "cell_type": "code",
   "execution_count": 327,
   "metadata": {},
   "outputs": [
    {
     "data": {
      "text/html": [
       "<div>\n",
       "<style scoped>\n",
       "    .dataframe tbody tr th:only-of-type {\n",
       "        vertical-align: middle;\n",
       "    }\n",
       "\n",
       "    .dataframe tbody tr th {\n",
       "        vertical-align: top;\n",
       "    }\n",
       "\n",
       "    .dataframe thead th {\n",
       "        text-align: right;\n",
       "    }\n",
       "</style>\n",
       "<table border=\"1\" class=\"dataframe\">\n",
       "  <thead>\n",
       "    <tr style=\"text-align: right;\">\n",
       "      <th></th>\n",
       "      <th>Month</th>\n",
       "      <th>Year</th>\n",
       "      <th>Time</th>\n",
       "    </tr>\n",
       "  </thead>\n",
       "  <tbody>\n",
       "    <tr>\n",
       "      <th>0</th>\n",
       "      <td>January</td>\n",
       "      <td>2016</td>\n",
       "      <td>293</td>\n",
       "    </tr>\n",
       "    <tr>\n",
       "      <th>1</th>\n",
       "      <td>February</td>\n",
       "      <td>2016</td>\n",
       "      <td>302</td>\n",
       "    </tr>\n",
       "    <tr>\n",
       "      <th>2</th>\n",
       "      <td>March</td>\n",
       "      <td>2016</td>\n",
       "      <td>298</td>\n",
       "    </tr>\n",
       "    <tr>\n",
       "      <th>3</th>\n",
       "      <td>April</td>\n",
       "      <td>2016</td>\n",
       "      <td>294</td>\n",
       "    </tr>\n",
       "    <tr>\n",
       "      <th>4</th>\n",
       "      <td>May</td>\n",
       "      <td>2016</td>\n",
       "      <td>294</td>\n",
       "    </tr>\n",
       "    <tr>\n",
       "      <th>5</th>\n",
       "      <td>June</td>\n",
       "      <td>2016</td>\n",
       "      <td>299</td>\n",
       "    </tr>\n",
       "    <tr>\n",
       "      <th>6</th>\n",
       "      <td>July</td>\n",
       "      <td>2016</td>\n",
       "      <td>308</td>\n",
       "    </tr>\n",
       "    <tr>\n",
       "      <th>7</th>\n",
       "      <td>August</td>\n",
       "      <td>2016</td>\n",
       "      <td>312</td>\n",
       "    </tr>\n",
       "    <tr>\n",
       "      <th>8</th>\n",
       "      <td>September</td>\n",
       "      <td>2016</td>\n",
       "      <td>311</td>\n",
       "    </tr>\n",
       "    <tr>\n",
       "      <th>9</th>\n",
       "      <td>October</td>\n",
       "      <td>2016</td>\n",
       "      <td>323</td>\n",
       "    </tr>\n",
       "    <tr>\n",
       "      <th>10</th>\n",
       "      <td>November</td>\n",
       "      <td>2016</td>\n",
       "      <td>308</td>\n",
       "    </tr>\n",
       "    <tr>\n",
       "      <th>11</th>\n",
       "      <td>December</td>\n",
       "      <td>2016</td>\n",
       "      <td>315</td>\n",
       "    </tr>\n",
       "  </tbody>\n",
       "</table>\n",
       "</div>"
      ],
      "text/plain": [
       "        Month  Year  Time\n",
       "0     January  2016   293\n",
       "1    February  2016   302\n",
       "2       March  2016   298\n",
       "3       April  2016   294\n",
       "4         May  2016   294\n",
       "5        June  2016   299\n",
       "6        July  2016   308\n",
       "7      August  2016   312\n",
       "8   September  2016   311\n",
       "9     October  2016   323\n",
       "10   November  2016   308\n",
       "11   December  2016   315"
      ]
     },
     "execution_count": 327,
     "metadata": {},
     "output_type": "execute_result"
    }
   ],
   "source": [
    "df_2016 = actual_times.loc[actual_times['Year'] == 2016]\n",
    "df_2016"
   ]
  },
  {
   "cell_type": "code",
   "execution_count": 328,
   "metadata": {},
   "outputs": [
    {
     "data": {
      "text/html": [
       "<div>\n",
       "<style scoped>\n",
       "    .dataframe tbody tr th:only-of-type {\n",
       "        vertical-align: middle;\n",
       "    }\n",
       "\n",
       "    .dataframe tbody tr th {\n",
       "        vertical-align: top;\n",
       "    }\n",
       "\n",
       "    .dataframe thead th {\n",
       "        text-align: right;\n",
       "    }\n",
       "</style>\n",
       "<table border=\"1\" class=\"dataframe\">\n",
       "  <thead>\n",
       "    <tr style=\"text-align: right;\">\n",
       "      <th></th>\n",
       "      <th>Month</th>\n",
       "      <th>Year</th>\n",
       "      <th>Time</th>\n",
       "    </tr>\n",
       "  </thead>\n",
       "  <tbody>\n",
       "    <tr>\n",
       "      <th>12</th>\n",
       "      <td>January</td>\n",
       "      <td>2017</td>\n",
       "      <td>306</td>\n",
       "    </tr>\n",
       "    <tr>\n",
       "      <th>13</th>\n",
       "      <td>February</td>\n",
       "      <td>2017</td>\n",
       "      <td>314</td>\n",
       "    </tr>\n",
       "    <tr>\n",
       "      <th>14</th>\n",
       "      <td>March</td>\n",
       "      <td>2017</td>\n",
       "      <td>315</td>\n",
       "    </tr>\n",
       "    <tr>\n",
       "      <th>15</th>\n",
       "      <td>April</td>\n",
       "      <td>2017</td>\n",
       "      <td>311</td>\n",
       "    </tr>\n",
       "    <tr>\n",
       "      <th>16</th>\n",
       "      <td>May</td>\n",
       "      <td>2017</td>\n",
       "      <td>309</td>\n",
       "    </tr>\n",
       "    <tr>\n",
       "      <th>17</th>\n",
       "      <td>June</td>\n",
       "      <td>2017</td>\n",
       "      <td>310</td>\n",
       "    </tr>\n",
       "    <tr>\n",
       "      <th>18</th>\n",
       "      <td>July</td>\n",
       "      <td>2017</td>\n",
       "      <td>302</td>\n",
       "    </tr>\n",
       "    <tr>\n",
       "      <th>19</th>\n",
       "      <td>August</td>\n",
       "      <td>2017</td>\n",
       "      <td>324</td>\n",
       "    </tr>\n",
       "    <tr>\n",
       "      <th>20</th>\n",
       "      <td>September</td>\n",
       "      <td>2017</td>\n",
       "      <td>325</td>\n",
       "    </tr>\n",
       "    <tr>\n",
       "      <th>21</th>\n",
       "      <td>October</td>\n",
       "      <td>2017</td>\n",
       "      <td>326</td>\n",
       "    </tr>\n",
       "    <tr>\n",
       "      <th>22</th>\n",
       "      <td>November</td>\n",
       "      <td>2017</td>\n",
       "      <td>336</td>\n",
       "    </tr>\n",
       "    <tr>\n",
       "      <th>23</th>\n",
       "      <td>December</td>\n",
       "      <td>2017</td>\n",
       "      <td>321</td>\n",
       "    </tr>\n",
       "  </tbody>\n",
       "</table>\n",
       "</div>"
      ],
      "text/plain": [
       "        Month  Year  Time\n",
       "12    January  2017   306\n",
       "13   February  2017   314\n",
       "14      March  2017   315\n",
       "15      April  2017   311\n",
       "16        May  2017   309\n",
       "17       June  2017   310\n",
       "18       July  2017   302\n",
       "19     August  2017   324\n",
       "20  September  2017   325\n",
       "21    October  2017   326\n",
       "22   November  2017   336\n",
       "23   December  2017   321"
      ]
     },
     "execution_count": 328,
     "metadata": {},
     "output_type": "execute_result"
    }
   ],
   "source": [
    "df_2017 = actual_times.loc[actual_times['Year'] == 2017]\n",
    "df_2017"
   ]
  },
  {
   "cell_type": "code",
   "execution_count": 329,
   "metadata": {},
   "outputs": [
    {
     "data": {
      "text/html": [
       "<div>\n",
       "<style scoped>\n",
       "    .dataframe tbody tr th:only-of-type {\n",
       "        vertical-align: middle;\n",
       "    }\n",
       "\n",
       "    .dataframe tbody tr th {\n",
       "        vertical-align: top;\n",
       "    }\n",
       "\n",
       "    .dataframe thead th {\n",
       "        text-align: right;\n",
       "    }\n",
       "</style>\n",
       "<table border=\"1\" class=\"dataframe\">\n",
       "  <thead>\n",
       "    <tr style=\"text-align: right;\">\n",
       "      <th></th>\n",
       "      <th>Month</th>\n",
       "      <th>Year</th>\n",
       "      <th>Time</th>\n",
       "    </tr>\n",
       "  </thead>\n",
       "  <tbody>\n",
       "    <tr>\n",
       "      <th>24</th>\n",
       "      <td>January</td>\n",
       "      <td>2018</td>\n",
       "      <td>318</td>\n",
       "    </tr>\n",
       "    <tr>\n",
       "      <th>25</th>\n",
       "      <td>February</td>\n",
       "      <td>2018</td>\n",
       "      <td>339</td>\n",
       "    </tr>\n",
       "    <tr>\n",
       "      <th>26</th>\n",
       "      <td>March</td>\n",
       "      <td>2018</td>\n",
       "      <td>331</td>\n",
       "    </tr>\n",
       "    <tr>\n",
       "      <th>27</th>\n",
       "      <td>April</td>\n",
       "      <td>2018</td>\n",
       "      <td>331</td>\n",
       "    </tr>\n",
       "    <tr>\n",
       "      <th>28</th>\n",
       "      <td>May</td>\n",
       "      <td>2018</td>\n",
       "      <td>348</td>\n",
       "    </tr>\n",
       "    <tr>\n",
       "      <th>29</th>\n",
       "      <td>June</td>\n",
       "      <td>2018</td>\n",
       "      <td>340</td>\n",
       "    </tr>\n",
       "    <tr>\n",
       "      <th>30</th>\n",
       "      <td>July</td>\n",
       "      <td>2018</td>\n",
       "      <td>322</td>\n",
       "    </tr>\n",
       "    <tr>\n",
       "      <th>31</th>\n",
       "      <td>August</td>\n",
       "      <td>2018</td>\n",
       "      <td>324</td>\n",
       "    </tr>\n",
       "  </tbody>\n",
       "</table>\n",
       "</div>"
      ],
      "text/plain": [
       "       Month  Year  Time\n",
       "24   January  2018   318\n",
       "25  February  2018   339\n",
       "26     March  2018   331\n",
       "27     April  2018   331\n",
       "28       May  2018   348\n",
       "29      June  2018   340\n",
       "30      July  2018   322\n",
       "31    August  2018   324"
      ]
     },
     "execution_count": 329,
     "metadata": {},
     "output_type": "execute_result"
    }
   ],
   "source": [
    "df_2018 = actual_times.loc[actual_times['Year'] == 2018]\n",
    "df_2018"
   ]
  },
  {
   "cell_type": "code",
   "execution_count": 330,
   "metadata": {},
   "outputs": [],
   "source": [
    "actual_time_2016 = df_2016['Time'].mean()\n",
    "actual_time_2017 = df_2017['Time'].mean()\n",
    "actual_time_2018 = df_2018['Time'].mean()"
   ]
  },
  {
   "cell_type": "code",
   "execution_count": 331,
   "metadata": {},
   "outputs": [
    {
     "name": "stdout",
     "output_type": "stream",
     "text": [
      "Improvement(min) in the response time: 4.473761366369403\n"
     ]
    }
   ],
   "source": [
    "improvement_2018 = actual_time_2018-calculated_time_2018\n",
    "print(\"Improvement(min) in the response time:\", improvement_2018/60)"
   ]
  },
  {
   "cell_type": "code",
   "execution_count": 332,
   "metadata": {},
   "outputs": [
    {
     "name": "stdout",
     "output_type": "stream",
     "text": [
      "Improvement(min) in the response time: 4.212842447052187\n"
     ]
    }
   ],
   "source": [
    "improvement_2017 = actual_time_2017-calculated_time_2017\n",
    "print(\"Improvement(min) in the response time:\", improvement_2017/60)"
   ]
  },
  {
   "cell_type": "code",
   "execution_count": 333,
   "metadata": {},
   "outputs": [
    {
     "name": "stdout",
     "output_type": "stream",
     "text": [
      "Improvement(min) in the response time: 4.000585621855079\n"
     ]
    }
   ],
   "source": [
    "improvement_2016 = actual_time_2016-calculated_time_2016\n",
    "print(\"Improvement(min) in the response time:\", improvement_2016/60)"
   ]
  },
  {
   "cell_type": "markdown",
   "metadata": {},
   "source": [
    "### Improvement Visualization"
   ]
  },
  {
   "cell_type": "code",
   "execution_count": 334,
   "metadata": {},
   "outputs": [],
   "source": [
    "years = [2016,  2017, 2018]\n",
    "actual_time = [actual_time_2016, actual_time_2017, actual_time_2018]\n",
    "calculated_time = [calculated_time_2016, calculated_time_2017, calculated_time_2018]"
   ]
  },
  {
   "cell_type": "code",
   "execution_count": 335,
   "metadata": {},
   "outputs": [
    {
     "data": {
      "image/png": "[encoded data removed]",
      "text/plain": [
       "<Figure size 576x432 with 1 Axes>"
      ]
     },
     "metadata": {},
     "output_type": "display_data"
    }
   ],
   "source": [
    "fig = plt.figure(figsize=(8, 6))\n",
    "ax1 = fig.add_subplot(111)\n",
    "\n",
    "plt.plot(years, actual_time,  c='r', marker=\"o\", label='actual', linestyle='--')\n",
    "plt.plot(years, calculated_time, c='b', marker=\"s\", label='predicted', linestyle='--')\n",
    "plt.legend(loc='upper right', fontsize=\"medium\");\n",
    "plt.xticks(np.arange(min(years), max(years)+1, 1.0), weight = 'bold')\n",
    "plt.yticks(np.arange(0, 450, 50), weight = 'bold')\n",
    "plt.title('Year vs Actual & Predicted times', weight = 'bold', fontsize = 15)\n",
    "plt.xlabel('Year', weight = 'bold', fontsize = 15)\n",
    "plt.ylabel('Time', weight = 'bold', fontsize = 15)\n",
    "plt.savefig('plots/Year vs Actual & Predicted times.png')\n",
    "plt.show()"
   ]
  },
  {
   "cell_type": "code",
   "execution_count": null,
   "metadata": {},
   "outputs": [],
   "source": []
  }
 ],
 "metadata": {
  "kernelspec": {
   "display_name": "Python 3",
   "language": "python",
   "name": "python3"
  },
  "language_info": {
   "codemirror_mode": {
    "name": "ipython",
    "version": 3
   },
   "file_extension": ".py",
   "mimetype": "text/x-python",
   "name": "python",
   "nbconvert_exporter": "python",
   "pygments_lexer": "ipython3",
   "version": "3.6.5"
  }
 },
 "nbformat": 4,
 "nbformat_minor": 2
}
